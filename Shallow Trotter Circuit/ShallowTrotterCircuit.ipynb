{
 "cells": [
  {
   "cell_type": "code",
   "execution_count": 1,
   "id": "cf20a860",
   "metadata": {},
   "outputs": [
    {
     "name": "stdout",
     "output_type": "stream",
     "text": [
      "Requirement already satisfied: qulacs in /home/sakaue/.local/lib/python3.8/site-packages (0.5.2)\n",
      "Requirement already satisfied: scipy in /home/sakaue/.local/lib/python3.8/site-packages (from qulacs) (1.9.3)\n",
      "Requirement already satisfied: numpy in /home/sakaue/.local/lib/python3.8/site-packages (from qulacs) (1.23.4)\n",
      "Collecting qulacsvis\n",
      "  Downloading qulacsvis-0.3.2-py3-none-any.whl (23 kB)\n",
      "Requirement already satisfied: scipy<2.0.0,>=1.9.1 in /home/sakaue/.local/lib/python3.8/site-packages (from qulacsvis) (1.9.3)\n",
      "Collecting Pillow<10.0.0,>=9.1.0\n",
      "  Downloading Pillow-9.2.0-cp38-cp38-manylinux_2_17_x86_64.manylinux2014_x86_64.whl (3.1 MB)\n",
      "\u001b[K     |████████████████████████████████| 3.1 MB 18.3 MB/s eta 0:00:01\n",
      "\u001b[?25hCollecting dataclasses-json<0.6.0,>=0.5.7\n",
      "  Downloading dataclasses_json-0.5.7-py3-none-any.whl (25 kB)\n",
      "Requirement already satisfied: numpy<2.0.0,>=1.22.0 in /home/sakaue/.local/lib/python3.8/site-packages (from qulacsvis) (1.23.4)\n",
      "Collecting temp<2021.0.0,>=2020.7.2\n",
      "  Downloading temp-2020.7.2.tar.gz (1.4 kB)\n",
      "Requirement already satisfied: Qulacs>=0.5.0 in /home/sakaue/.local/lib/python3.8/site-packages (from qulacsvis) (0.5.2)\n",
      "Collecting matplotlib<4.0.0,>=3.4.3\n",
      "  Downloading matplotlib-3.6.1-cp38-cp38-manylinux_2_12_x86_64.manylinux2010_x86_64.whl (9.4 MB)\n",
      "\u001b[K     |████████████████████████████████| 9.4 MB 81.4 MB/s eta 0:00:01\n",
      "\u001b[?25hCollecting marshmallow<4.0.0,>=3.3.0\n",
      "  Downloading marshmallow-3.18.0-py3-none-any.whl (48 kB)\n",
      "\u001b[K     |████████████████████████████████| 48 kB 222 kB/s  eta 0:00:01\n",
      "\u001b[?25hCollecting typing-inspect>=0.4.0\n",
      "  Downloading typing_inspect-0.8.0-py3-none-any.whl (8.7 kB)\n",
      "Collecting marshmallow-enum<2.0.0,>=1.5.1\n",
      "  Downloading marshmallow_enum-1.5.1-py2.py3-none-any.whl (4.2 kB)\n",
      "Collecting contourpy>=1.0.1\n",
      "  Downloading contourpy-1.0.5-cp38-cp38-manylinux_2_17_x86_64.manylinux2014_x86_64.whl (295 kB)\n",
      "\u001b[K     |████████████████████████████████| 295 kB 136.8 MB/s eta 0:00:01\n",
      "\u001b[?25hRequirement already satisfied: packaging>=20.0 in /usr/lib/python3/dist-packages (from matplotlib<4.0.0,>=3.4.3->qulacsvis) (20.3)\n",
      "Requirement already satisfied: python-dateutil>=2.7 in /home/sakaue/.local/lib/python3.8/site-packages (from matplotlib<4.0.0,>=3.4.3->qulacsvis) (2.8.2)\n",
      "Collecting fonttools>=4.22.0\n",
      "  Downloading fonttools-4.38.0-py3-none-any.whl (965 kB)\n",
      "\u001b[K     |████████████████████████████████| 965 kB 91.1 MB/s eta 0:00:01\n",
      "\u001b[?25hCollecting cycler>=0.10\n",
      "  Downloading cycler-0.11.0-py3-none-any.whl (6.4 kB)\n",
      "Collecting kiwisolver>=1.0.1\n",
      "  Downloading kiwisolver-1.4.4-cp38-cp38-manylinux_2_5_x86_64.manylinux1_x86_64.whl (1.2 MB)\n",
      "\u001b[K     |████████████████████████████████| 1.2 MB 146.5 MB/s eta 0:00:01\n",
      "\u001b[?25hRequirement already satisfied: pyparsing>=2.2.1 in /usr/lib/python3/dist-packages (from matplotlib<4.0.0,>=3.4.3->qulacsvis) (2.4.6)\n",
      "Collecting typing-extensions>=3.7.4\n",
      "  Downloading typing_extensions-4.4.0-py3-none-any.whl (26 kB)\n",
      "Collecting mypy-extensions>=0.3.0\n",
      "  Downloading mypy_extensions-0.4.3-py2.py3-none-any.whl (4.5 kB)\n",
      "Requirement already satisfied: six>=1.5 in /usr/lib/python3/dist-packages (from python-dateutil>=2.7->matplotlib<4.0.0,>=3.4.3->qulacsvis) (1.14.0)\n",
      "Building wheels for collected packages: temp\n",
      "  Building wheel for temp (setup.py) ... \u001b[?25ldone\n",
      "\u001b[?25h  Created wheel for temp: filename=temp-2020.7.2-py3-none-any.whl size=1293 sha256=a3c2d3928408ee842a965edcd9a0958b18313f29e0789ccd29444b0b62ee7e77\n",
      "  Stored in directory: /home/sakaue/.cache/pip/wheels/a4/21/b9/b8c88d91e9c320c6bebc35a3536ed33774a6a2cea0b2137016\n",
      "Successfully built temp\n",
      "Installing collected packages: Pillow, marshmallow, typing-extensions, mypy-extensions, typing-inspect, marshmallow-enum, dataclasses-json, temp, contourpy, fonttools, cycler, kiwisolver, matplotlib, qulacsvis\n",
      "Successfully installed Pillow-9.2.0 contourpy-1.0.5 cycler-0.11.0 dataclasses-json-0.5.7 fonttools-4.38.0 kiwisolver-1.4.4 marshmallow-3.18.0 marshmallow-enum-1.5.1 matplotlib-3.6.1 mypy-extensions-0.4.3 qulacsvis-0.3.2 temp-2020.7.2 typing-extensions-4.4.0 typing-inspect-0.8.0\n",
      "Requirement already satisfied: matplotlib in /home/sakaue/.local/lib/python3.8/site-packages (3.6.1)\n",
      "Requirement already satisfied: python-dateutil>=2.7 in /home/sakaue/.local/lib/python3.8/site-packages (from matplotlib) (2.8.2)\n",
      "Requirement already satisfied: cycler>=0.10 in /home/sakaue/.local/lib/python3.8/site-packages (from matplotlib) (0.11.0)\n",
      "Requirement already satisfied: pyparsing>=2.2.1 in /usr/lib/python3/dist-packages (from matplotlib) (2.4.6)\n",
      "Requirement already satisfied: numpy>=1.19 in /home/sakaue/.local/lib/python3.8/site-packages (from matplotlib) (1.23.4)\n",
      "Requirement already satisfied: fonttools>=4.22.0 in /home/sakaue/.local/lib/python3.8/site-packages (from matplotlib) (4.38.0)\n",
      "Requirement already satisfied: kiwisolver>=1.0.1 in /home/sakaue/.local/lib/python3.8/site-packages (from matplotlib) (1.4.4)\n",
      "Requirement already satisfied: packaging>=20.0 in /usr/lib/python3/dist-packages (from matplotlib) (20.3)\n",
      "Requirement already satisfied: contourpy>=1.0.1 in /home/sakaue/.local/lib/python3.8/site-packages (from matplotlib) (1.0.5)\n",
      "Requirement already satisfied: pillow>=6.2.0 in /home/sakaue/.local/lib/python3.8/site-packages (from matplotlib) (9.2.0)\n",
      "Requirement already satisfied: six>=1.5 in /usr/lib/python3/dist-packages (from python-dateutil>=2.7->matplotlib) (1.14.0)\n",
      "Requirement already satisfied: numpy in /home/sakaue/.local/lib/python3.8/site-packages (1.23.4)\n",
      "Requirement already satisfied: scipy in /home/sakaue/.local/lib/python3.8/site-packages (1.9.3)\n",
      "Requirement already satisfied: numpy<1.26.0,>=1.18.5 in /home/sakaue/.local/lib/python3.8/site-packages (from scipy) (1.23.4)\n"
     ]
    }
   ],
   "source": [
    "!pip install qulacs\n",
    "!pip install qulacsvis\n",
    "!pip install matplotlib\n",
    "!pip install numpy\n",
    "!pip install scipy"
   ]
  },
  {
   "cell_type": "code",
   "execution_count": 2,
   "id": "1c265bcb",
   "metadata": {},
   "outputs": [],
   "source": [
    "import matplotlib.pyplot as plt\n",
    "import numpy as np\n",
    "import time\n",
    "import datetime as dt\n",
    "import random\n",
    "import math\n",
    "from qulacs import QuantumState, Observable, QuantumCircuit\n",
    "from qulacsvis import circuit_drawer\n",
    "from qulacs.circuit import QuantumCircuitOptimizer\n",
    "from qulacs.state import inner_product\n",
    "import scipy.optimize\n",
    "from qulacs.gate import Identity, X,Y,Z\n",
    "from qulacs.gate import H,S,Sdag,T,Tdag,sqrtX,sqrtXdag,sqrtY,sqrtYdag\n",
    "from qulacs.gate import RX,RY,RZ,CNOT, CZ, SWAP\n",
    "from qulacs.gate import to_matrix_gate,RandomUnitary,DenseMatrix,merge\n",
    "from scipy import stats\n",
    "from scipy.integrate import quad"
   ]
  },
  {
   "cell_type": "markdown",
   "id": "14a78675",
   "metadata": {},
   "source": [
    "# Appendix Bの量子回路を用いたAlgorithm1の実装"
   ]
  },
  {
   "cell_type": "markdown",
   "id": "435a135d",
   "metadata": {},
   "source": [
    "-----"
   ]
  },
  {
   "cell_type": "markdown",
   "id": "8bd88060",
   "metadata": {},
   "source": [
    "## トロッター分解"
   ]
  },
  {
   "cell_type": "markdown",
   "id": "3063a1ba",
   "metadata": {},
   "source": [
    "1次元横磁場イジング模型におけるハミルトニアン\n",
    "$$\\bar{H} = -(2-\\lambda)\\sum_{i=0}^{3}Z_iZ_{i+1} -\\lambda\\sum_{i=0}^3X_i\\equiv -\\alpha\\sum_{i=0}^{3}Z_iZ_{i+1}-\\beta\\sum_{i=0}^3X_i=\\sum_{i=1}^6a_i O_i$$\n",
    "を考える。ここで、$\\alpha\\equiv2-\\lambda,\\beta\\equiv\\lambda$とした。"
   ]
  },
  {
   "cell_type": "markdown",
   "id": "d610f0cf",
   "metadata": {},
   "source": [
    "トロッター分解\n",
    "$$e^{-i\\bar{H}t}=\\left(e^{i\\{\\alpha(Z_0Z_1+Z_1Z_2+Z_2Z_3+Z_3Z_1)+\\beta(X_0+X_1+X_2+X_3)\\}\\frac{t}{M}}\\right)^M\\approx\\left(e^{i\\alpha(Z_0Z_1)\\frac{t}{M}}\\cdot\\cdots\\cdot e^{i\\beta(X_3)\\frac{t}{M}}\\right)^M=\\left(e^{i\\alpha(Z_0Z_1)\\delta}\\cdot\\cdots\\cdot e^{i\\beta(X_3)\\delta}\\right)^M$$\n",
    "を用いて、実時間発展演算子を量子回路に実装する。ここで、$\\delta\\equiv\\frac{t}{M}$とした。"
   ]
  },
  {
   "cell_type": "markdown",
   "id": "a9d1399f",
   "metadata": {},
   "source": [
    "分解した実時間発展が\n",
    "$$e^{i\\alpha\\delta Z_iZ_{i+1}}=CX_{i,i+1}e^{i\\alpha\\delta Z_{i+1}}CX_{i,i+1}=CX_{i,i+1}RZ_{i+1}\\left(2\\alpha\\delta\\right)CX_{i,i+1}$$\n",
    "のように量子回路で表現できることを用いて実装していく。(CX：制御NOTゲート、RZ：PauliZ回転ゲート)"
   ]
  },
  {
   "cell_type": "markdown",
   "id": "13c520bf",
   "metadata": {},
   "source": [
    "量子回路で求める期待値は、物理量の各項の係数の合計を$a_{total}=\\sum\\limits_{i=1}^6|a_i|$としたとき、\n",
    "その割合$\\left\\{\\frac{|a_i|}{a_{total}},\\cdots,\\frac{|a_6|}{a_{total}}\\right\\}$に従ってNs回$O_i$をサンプルして、期待値\n",
    "$$\\left<\\bar{H}\\right>\\approx\\frac{1}{N_s}\\sum\\limits_{j}^{N_s}\\left<O_j\\right>$$\n",
    "を求める。(ただし、係数は正確に記述していない。)"
   ]
  },
  {
   "cell_type": "code",
   "execution_count": 3,
   "id": "a52d2b1c",
   "metadata": {},
   "outputs": [
    {
     "data": {
      "image/png": "[encoded data removed]",
      "text/plain": [
       "<Figure size 972x453.6 with 1 Axes>"
      ]
     },
     "metadata": {},
     "output_type": "display_data"
    }
   ],
   "source": [
    "# number of qubits without an ancillary qubit.\n",
    "n_qubits = 4\n",
    "# number of all qubits.\n",
    "nqubits = n_qubits + 1\n",
    "state = QuantumState(nqubits)\n",
    "state.set_zero_state()\n",
    "\n",
    "# time to simulate\n",
    "t_1 = 1.0 # t\n",
    "t_2 = 1.0 # t'\n",
    "# trotter step\n",
    "M = 1\n",
    "# trotter stride\n",
    "δ = t_1/M ################################## check before you execute\n",
    "# parameter\n",
    "λ = 1\n",
    "\n",
    "\n",
    "circuit_trotter_Ising = QuantumCircuit(nqubits)\n",
    "for i in range(M):\n",
    "    for i in range(nqubits-1):\n",
    "        circuit_trotter_Ising.add_CNOT_gate(i,(i+1)%(nqubits-1))\n",
    "        circuit_trotter_Ising.add_RZ_gate((i+1)%(nqubits-1),-2*(2-λ)*δ) # exp(i*α*δ*Z)=RZ(2*α*δ) => in qulacs => RZ(-2*α*δ)\n",
    "        circuit_trotter_Ising.add_CNOT_gate(i,(i+1)%(nqubits-1))\n",
    "    for i in range(nqubits-1):\n",
    "        circuit_trotter_Ising.add_RX_gate((i%(nqubits-1)),-2*λ*δ) # exp(i*β*δ*X)=RX(2*β*δ) => in qulacs => RX(-2*β*δ)\n",
    "circuit_drawer(circuit_trotter_Ising,\"mpl\")"
   ]
  },
  {
   "cell_type": "markdown",
   "id": "39bb959d",
   "metadata": {},
   "source": [
    "-----"
   ]
  },
  {
   "cell_type": "markdown",
   "id": "f04a51d7",
   "metadata": {},
   "source": [
    "## $t$を確率密度関数$g\\left(t\\right)=\\frac{1}{\\pi}\\frac{\\beta}{\\beta^2+t^2}\\exp(-\\frac{\\beta^2+t^2}{2\\tau^2})$に従って棄却サンプリングする"
   ]
  },
  {
   "cell_type": "code",
   "execution_count": 4,
   "id": "89ab3d57",
   "metadata": {},
   "outputs": [],
   "source": [
    "# imports\n",
    "import warnings\n",
    "warnings.filterwarnings('ignore')\n",
    "import os, sys\n",
    "import numpy as np\n",
    "import datetime as dt\n",
    "import matplotlib.pyplot as plt\n",
    "import matplotlib.gridspec as gridspec\n",
    "from mpl_toolkits.axes_grid1.inset_locator import inset_axes\n",
    "import scipy as sp\n",
    "from scipy.constants import pi\n",
    "\n"
   ]
  },
  {
   "cell_type": "markdown",
   "id": "62a24a67",
   "metadata": {},
   "source": [
    "目標分布：$g(t)=\\frac{1}{\\pi}\\frac{\\beta}{\\beta^2+t^2}\\exp(-\\frac{\\beta^2+t^2}{2\\tau^2})$"
   ]
  },
  {
   "cell_type": "markdown",
   "id": "21214952",
   "metadata": {},
   "source": [
    "提案分布 : $q(t)=g(0)$"
   ]
  },
  {
   "cell_type": "code",
   "execution_count": 5,
   "id": "4214c346",
   "metadata": {},
   "outputs": [],
   "source": [
    "# target pdf g(t)\n",
    "def g(t,β=1,τ=10):\n",
    "    return 1/np.pi*β/(β**2+t**2)*np.exp(-(β**2+t**2)/2*τ**2)\n",
    "\n",
    "# done"
   ]
  },
  {
   "cell_type": "code",
   "execution_count": 6,
   "id": "7e05c222",
   "metadata": {},
   "outputs": [
    {
     "data": {
      "text/plain": [
       "5.920684802611233e-45"
      ]
     },
     "execution_count": 6,
     "metadata": {},
     "output_type": "execute_result"
    }
   ],
   "source": [
    "g(1, 1, 10)"
   ]
  },
  {
   "cell_type": "code",
   "execution_count": 196,
   "id": "d52175c1",
   "metadata": {},
   "outputs": [
    {
     "data": {
      "image/png": "[encoded data removed]",
      "text/plain": [
       "<Figure size 640x480 with 1 Axes>"
      ]
     },
     "metadata": {},
     "output_type": "display_data"
    }
   ],
   "source": [
    "β=0.01\n",
    "τ=100\n",
    "tmax = 0.5\n",
    "tmin = -1*tmax\n",
    "x = np.linspace(tmin,tmax,10**3)\n",
    "P = g(x,β,τ)\n",
    "Q = g(0,β,τ)\n",
    "plt.plot(x,P,label=\"$P(t)$\")\n",
    "plt.plot([tmin, tmax],[Q, Q], \"red\", linestyle='dashed',label=f'$Q(t)$={Q}')\n",
    "plt.xlabel(\"t\")\n",
    "plt.ylabel('PDF')\n",
    "plt.legend()\n",
    "plt.show()\n",
    "\n"
   ]
  },
  {
   "cell_type": "code",
   "execution_count": 6,
   "id": "b8e84b37",
   "metadata": {},
   "outputs": [],
   "source": [
    "# rejection sampling\n",
    "def sampling(tmin=-0.5,tmax=0.5,β=1,τ=10):\n",
    "    # maximum value of g(t)\n",
    "    k = g(0,β,τ)\n",
    "    while True:\n",
    "        # sample from the proposed distribution [min_range,max_range)\n",
    "        t = np.random.uniform(tmin,tmax)\n",
    "        # sample u from [0,k)\n",
    "        u = k*np.random.uniform(0,1.0)\n",
    "        # judge if accept\n",
    "        if g(t,β,τ) > u:\n",
    "            return t\n",
    "        \n",
    "#done\n",
    "        "
   ]
  },
  {
   "cell_type": "code",
   "execution_count": 197,
   "id": "8189dfa4",
   "metadata": {},
   "outputs": [],
   "source": [
    "β=0.01\n",
    "τ=100\n",
    "tmax = 0.05\n",
    "tmin = -1*tmax\n",
    "x = np.linspace(tmin,tmax,10**4)\n",
    "y = g(x,β,τ)\n",
    "\n"
   ]
  },
  {
   "cell_type": "code",
   "execution_count": 198,
   "id": "e3ca6dbd",
   "metadata": {},
   "outputs": [
    {
     "name": "stdout",
     "output_type": "stream",
     "text": [
      "Elapsed Time:  0:13:29.155308\n"
     ]
    }
   ],
   "source": [
    "# get sample\n",
    "N = 10**7\n",
    "# time measure\n",
    "t_mes_0 = dt.datetime.now()\n",
    "# sampling using rejection sampling\n",
    "samples = np.array([sampling(tmin,tmax,β,τ) for i in range(N)])\n",
    "# time measure\n",
    "t_mes_1 = dt.datetime.now()\n",
    "print('Elapsed Time: ', t_mes_1- t_mes_0)\n",
    "\n"
   ]
  },
  {
   "cell_type": "code",
   "execution_count": 199,
   "id": "436c7263",
   "metadata": {},
   "outputs": [
    {
     "data": {
      "image/png": "[encoded data removed]",
      "text/plain": [
       "<Figure size 640x480 with 1 Axes>"
      ]
     },
     "metadata": {},
     "output_type": "display_data"
    }
   ],
   "source": [
    "# plot\n",
    "%matplotlib inline\n",
    "plt.hist(samples, bins = 10**5, density = True, alpha = 0.5, label = 'Sample result')\n",
    "plt.plot(x,y, label = 'Target Distribution : $g(t)$')\n",
    "plt.xlabel(\"t\")\n",
    "plt.ylabel('PDF')\n",
    "plt.legend()\n",
    "plt.show()\n"
   ]
  },
  {
   "cell_type": "code",
   "execution_count": 200,
   "id": "5762cb32",
   "metadata": {},
   "outputs": [],
   "source": [
    "β=0.01\n",
    "τ=100\n",
    "tmax = 0.05\n",
    "tmin = -1*tmax\n",
    "x = np.linspace(tmin,tmax,10**4)\n",
    "y = g(x,β,τ)\n"
   ]
  },
  {
   "cell_type": "code",
   "execution_count": null,
   "id": "910e6231",
   "metadata": {},
   "outputs": [],
   "source": [
    "# get sample\n",
    "N = 10**8\n",
    "# time measure\n",
    "t_mes_0 = dt.datetime.now()\n",
    "# sampling using rejection sampling\n",
    "samples = np.array([sampling(tmin,tmax,β,τ) for i in range(N)])\n",
    "# time measure\n",
    "t_mes_1 = dt.datetime.now()\n",
    "print('Elapsed Time: ', t_mes_1- t_mes_0)\n"
   ]
  },
  {
   "cell_type": "code",
   "execution_count": null,
   "id": "6b4e63dc",
   "metadata": {},
   "outputs": [],
   "source": [
    "# plot\n",
    "%matplotlib inline\n",
    "plt.hist(samples, bins = 10*6, density = True, alpha = 0.5, label = 'Sample result')\n",
    "plt.plot(x,y, label = 'Target Distribution : $g(t)$')\n",
    "plt.xlabel(\"t\")\n",
    "plt.ylabel('PDF')\n",
    "plt.legend()\n",
    "plt.show()"
   ]
  },
  {
   "cell_type": "code",
   "execution_count": 148,
   "id": "46d5b609",
   "metadata": {},
   "outputs": [],
   "source": [
    "# practice\n",
    "from scipy import stats\n",
    "import math\n",
    "N=1000\n",
    "class gaussian(stats.rv_continuous):\n",
    "\n",
    "    def _pdf(self, x, mu, sigma):\n",
    "        normalize_factor = 1.0/(2.0*math.pi*sigma**2)**(1/2)\n",
    "        px = normalize_factor * math.exp(-(x-mu)**2/(2*sigma**2))\n",
    "\n",
    "        return px\n",
    "\n",
    "gaussian = gaussian(name=\"gaussian\", a=0.0)    \n",
    "sample_from_gaussian = gaussian.rvs(size=N, mu=10.0, sigma=1.0) \n",
    "\n"
   ]
  },
  {
   "cell_type": "code",
   "execution_count": 14,
   "id": "ae23064c",
   "metadata": {},
   "outputs": [
    {
     "name": "stdout",
     "output_type": "stream",
     "text": [
      "10.072257876020188\n",
      "0.9806885879945281\n"
     ]
    },
    {
     "data": {
      "image/png": "[encoded data removed]",
      "text/plain": [
       "<Figure size 640x480 with 1 Axes>"
      ]
     },
     "metadata": {},
     "output_type": "display_data"
    }
   ],
   "source": [
    "# practice\n",
    "fig = plt.figure()\n",
    "ax = fig.add_subplot(1,1,1)\n",
    "ax.hist(sample_from_gaussian,bins=100)\n",
    "print(np.mean(sample_from_gaussian))\n",
    "print(np.var(sample_from_gaussian))\n",
    "fig.show()\n",
    "\n"
   ]
  },
  {
   "cell_type": "code",
   "execution_count": 15,
   "id": "ad43b1ee",
   "metadata": {},
   "outputs": [],
   "source": [
    "# practice\n",
    "t = np.random.uniform(-100,100,1000000)\n",
    "\n"
   ]
  },
  {
   "cell_type": "code",
   "execution_count": 16,
   "id": "062cb4db",
   "metadata": {},
   "outputs": [
    {
     "name": "stdout",
     "output_type": "stream",
     "text": [
      "0.08403876850719576\n",
      "3336.907424953073\n"
     ]
    },
    {
     "data": {
      "image/png": "[encoded data removed]",
      "text/plain": [
       "<Figure size 640x480 with 1 Axes>"
      ]
     },
     "metadata": {},
     "output_type": "display_data"
    }
   ],
   "source": [
    "# practice\n",
    "fig = plt.figure()\n",
    "ax = fig.add_subplot(1,1,1)\n",
    "ax.hist(t,bins=100)\n",
    "print(np.mean(t))\n",
    "print(np.var(t))\n",
    "fig.show()\n",
    "\n"
   ]
  },
  {
   "cell_type": "markdown",
   "id": "b159d728",
   "metadata": {},
   "source": [
    "---"
   ]
  },
  {
   "cell_type": "markdown",
   "id": "965481c1",
   "metadata": {},
   "source": [
    "### Qulacsでのサンプル結果の意味を実装により確認する。"
   ]
  },
  {
   "cell_type": "code",
   "execution_count": 17,
   "id": "42eb2305",
   "metadata": {},
   "outputs": [
    {
     "data": {
      "image/png": "[encoded data removed]",
      "text/plain": [
       "<Figure size 194.4x194.4 with 1 Axes>"
      ]
     },
     "metadata": {},
     "output_type": "display_data"
    },
    {
     "name": "stdout",
     "output_type": "stream",
     "text": [
      "[3, 3, 3, 3, 3, 3, 3, 3, 3, 3]\n",
      "0b11\n"
     ]
    },
    {
     "data": {
      "image/png": "[encoded data removed]",
      "text/plain": [
       "<Figure size 194.4x194.4 with 1 Axes>"
      ]
     },
     "metadata": {},
     "output_type": "display_data"
    },
    {
     "name": "stdout",
     "output_type": "stream",
     "text": [
      "[2, 2, 2, 2, 2, 2, 2, 2, 2, 2]\n",
      "0b10\n"
     ]
    },
    {
     "data": {
      "image/png": "[encoded data removed]",
      "text/plain": [
       "<Figure size 194.4x280.8 with 1 Axes>"
      ]
     },
     "metadata": {},
     "output_type": "display_data"
    },
    {
     "name": "stdout",
     "output_type": "stream",
     "text": [
      "[2, 2, 2, 2, 2, 2, 2, 2, 2, 2]\n",
      "0b10\n"
     ]
    }
   ],
   "source": [
    "\"\"\"\n",
    "    Check arrangements of sampling result of qulacs.\n",
    "\"\"\"\n",
    "\n",
    "example_nqubits = 2\n",
    "example_state = QuantumState(example_nqubits)\n",
    "example_state.set_zero_state()\n",
    "example_circuit = QuantumCircuit(example_nqubits)\n",
    "example_circuit.add_X_gate(0)\n",
    "example_circuit.add_X_gate(1)\n",
    "circuit_drawer(example_circuit,\"mpl\")\n",
    "example_circuit.update_quantum_state(example_state)\n",
    "a = example_state.sampling(10)\n",
    "print(a)\n",
    "print(bin(a[0]))\n",
    "\n",
    "\n",
    "example_nqubits = 2\n",
    "example_state = QuantumState(example_nqubits)\n",
    "example_state.set_zero_state()\n",
    "example_circuit = QuantumCircuit(example_nqubits)\n",
    "example_circuit.add_X_gate(1)\n",
    "circuit_drawer(example_circuit,\"mpl\")\n",
    "example_circuit.update_quantum_state(example_state)\n",
    "a = example_state.sampling(10)\n",
    "print(a)\n",
    "print(bin(a[0]))\n",
    "\n",
    "\n",
    "example_nqubits = 3\n",
    "example_state = QuantumState(example_nqubits)\n",
    "example_state.set_zero_state()\n",
    "example_circuit = QuantumCircuit(example_nqubits)\n",
    "example_circuit.add_X_gate(1)\n",
    "circuit_drawer(example_circuit,\"mpl\")\n",
    "example_circuit.update_quantum_state(example_state)\n",
    "a = example_state.sampling(10)\n",
    "print(a)\n",
    "print(bin(a[0]))"
   ]
  },
  {
   "cell_type": "markdown",
   "id": "cffbdd5a",
   "metadata": {},
   "source": [
    "|(1th) (0th)>"
   ]
  },
  {
   "cell_type": "markdown",
   "id": "024955e7",
   "metadata": {},
   "source": [
    "-----"
   ]
  },
  {
   "cell_type": "markdown",
   "id": "774fa341",
   "metadata": {},
   "source": [
    "### トロッター分解をした横磁場イジングモデルの実時間発展演算子を量子回路に実装する。"
   ]
  },
  {
   "cell_type": "code",
   "execution_count": 7,
   "id": "b73a6dab",
   "metadata": {},
   "outputs": [],
   "source": [
    "\"\"\"\n",
    "    Add Trotterised RTS operator to quantum circuit.\n",
    "\"\"\"\n",
    "def trotter_Ising_circuit_drawer(t,δ,λ,nqubits,circuit):\n",
    "    M = int(t/δ)\n",
    "    Vt_i_gate = Identity(0)\n",
    "    for i in range(M):\n",
    "        for i in range(nqubits-1):\n",
    "            Vt_i_gate = merge(Vt_i_gate,CNOT(i,(i+1)%(nqubits-1)))\n",
    "            Vt_i_gate = merge(Vt_i_gate,RZ((i+1)%(nqubits-1),-2*(2-λ)*δ)) # exp(i*α*δ*Z)=RZ(2*α*δ) => in qulacs => RZ(-2*α*δ)\n",
    "            Vt_i_gate = merge(Vt_i_gate,CNOT(i,(i+1)%(nqubits-1)))\n",
    "        for i in range(nqubits-1):\n",
    "            Vt_i_gate = merge(Vt_i_gate,RX(i%(nqubits-1),-2*λ*δ))  # exp(i*β*δ*X)=RX(2*β*δ) => in qulacs => RX(-2*β*δ)\n",
    "    Vt_i_mat_gate = to_matrix_gate(Vt_i_gate)\n",
    "    control_index = nqubits-1\n",
    "    control_with_value = 1\n",
    "    Vt_i_mat_gate.add_control_qubit(control_index,control_with_value)\n",
    "    circuit.add_gate(Vt_i_mat_gate)\n",
    "\n",
    "# done\n",
    "    "
   ]
  },
  {
   "cell_type": "code",
   "execution_count": 45,
   "id": "8c375562",
   "metadata": {},
   "outputs": [
    {
     "data": {
      "image/png": "[encoded data removed]",
      "text/plain": [
       "<Figure size 194.4x367.2 with 1 Axes>"
      ]
     },
     "metadata": {},
     "output_type": "display_data"
    },
    {
     "data": {
      "image/png": "[encoded data removed]",
      "text/plain": [
       "<Figure size 259.2x367.2 with 1 Axes>"
      ]
     },
     "metadata": {},
     "output_type": "display_data"
    }
   ],
   "source": [
    "\"\"\"\n",
    "    Check if the function \"trotter_Ising_circuit_drawer\" is working.\n",
    "\"\"\"\n",
    "nqubits = 4\n",
    "circuit_practice_1 = QuantumCircuit(nqubits)\n",
    "circuit_practice_1.add_H_gate(nqubits-1)\n",
    "target_list = [i for i in range(nqubits-1)]\n",
    "random_unitary_gate = RandomUnitary(target_list)\n",
    "circuit_practice_1.add_gate(random_unitary_gate)\n",
    "circuit_drawer(circuit_practice_1,\"mpl\")\n",
    "\n",
    "t = 1.0\n",
    "δ = 0.1\n",
    "λ = 1.0\n",
    "trotter_Ising_circuit_drawer(t,δ,λ,nqubits,circuit_practice_1)\n",
    "circuit_drawer(circuit_practice_1,\"mpl\")\n",
    "\n"
   ]
  },
  {
   "cell_type": "markdown",
   "id": "e8519c7f",
   "metadata": {},
   "source": [
    "---"
   ]
  },
  {
   "cell_type": "markdown",
   "id": "4963fba6",
   "metadata": {},
   "source": [
    "### $\\left\\{\\frac{|a_1|}{a_{total}},\\cdots,\\frac{|a_6|}{a_{total}}\\right\\}$に従ってNs回$O_i$をサンプルする。"
   ]
  },
  {
   "cell_type": "code",
   "execution_count": 8,
   "id": "bf261122",
   "metadata": {},
   "outputs": [],
   "source": [
    "\"\"\"\n",
    "    Select observable Oi from O = ΣaiOi by sampling according to its distribution |aj|/aO.\n",
    "\"\"\"\n",
    "def select_obs_Ising(nqubits, coef_1, coef_2, Ns):\n",
    "    coef_total = (nqubits-1)*abs(coef_1+coef_2)\n",
    "    obs_list_total = [0 for i in range((nqubits-1)*2)] # list => numpy.zeros dtypeに注意\n",
    "    prob_list_total = [0 for i in range((nqubits-1)*2)]\n",
    "    selection_list = [i for i in range((nqubits-1)*2)]\n",
    "    for i in range((nqubits-1)):\n",
    "        obs_list_total[i] = [3,i,coef_1]\n",
    "        obs_list_total[i+(nqubits-1)] = [1,i,coef_2]\n",
    "        prob_list_total[i] = abs(coef_1)/coef_total\n",
    "        prob_list_total[i+(nqubits-1)] = abs(coef_2)/coef_total\n",
    "    \n",
    "    rng = np.random.default_rng()\n",
    "    res_index = rng.choice(selection_list, Ns, p=prob_list_total)\n",
    "    sampled_obs_list = []\n",
    "    for index in res_index:\n",
    "        sampled_obs_list.append(obs_list_total[index])\n",
    "        \n",
    "    return coef_total,sampled_obs_list # [gate,index,coefficient]\n",
    "\n",
    "# done\n"
   ]
  },
  {
   "cell_type": "code",
   "execution_count": 60,
   "id": "00530595",
   "metadata": {},
   "outputs": [
    {
     "data": {
      "text/plain": [
       "(15.0,\n",
       " [[3, 0, 2.0],\n",
       "  [1, 1, 3.0],\n",
       "  [1, 2, 3.0],\n",
       "  [1, 1, 3.0],\n",
       "  [3, 2, 2.0],\n",
       "  [1, 2, 3.0],\n",
       "  [3, 1, 2.0],\n",
       "  [1, 0, 3.0],\n",
       "  [1, 1, 3.0],\n",
       "  [1, 0, 3.0],\n",
       "  [1, 2, 3.0],\n",
       "  [3, 1, 2.0],\n",
       "  [3, 2, 2.0],\n",
       "  [3, 1, 2.0],\n",
       "  [1, 1, 3.0],\n",
       "  [1, 1, 3.0],\n",
       "  [1, 1, 3.0],\n",
       "  [1, 2, 3.0],\n",
       "  [1, 0, 3.0],\n",
       "  [1, 1, 3.0]])"
      ]
     },
     "execution_count": 60,
     "metadata": {},
     "output_type": "execute_result"
    }
   ],
   "source": [
    "\"\"\"\n",
    "    Check if the function \"select_obs_Ising\" is working correctly.\n",
    "\"\"\"\n",
    "nqubits = 4\n",
    "coef_1 = 2.0 # α\n",
    "coef_2 = 3.0 # β\n",
    "Ns = 20\n",
    "select_obs_Ising(nqubits,coef_1,coef_2,Ns)"
   ]
  },
  {
   "cell_type": "markdown",
   "id": "d252e5c8",
   "metadata": {},
   "source": [
    "for文を用いた0のlistとnumpy.zerosの速さ比較"
   ]
  },
  {
   "cell_type": "code",
   "execution_count": 22,
   "id": "e9df234b",
   "metadata": {},
   "outputs": [
    {
     "name": "stdout",
     "output_type": "stream",
     "text": [
      "0:00:00.000382\n",
      "0:00:00.003606\n",
      "Difference of [t_for - t_numpy] =  0:00:00.003224\n"
     ]
    }
   ],
   "source": [
    "t_start = dt.datetime.now()\n",
    "a = np.zeros(10**5)\n",
    "t_end = dt.datetime.now()\n",
    "t_numpy = t_end - t_start\n",
    "print(t_numpy)\n",
    "t_start = dt.datetime.now()\n",
    "a = [0 for i in range(10**5)]\n",
    "t_end = dt.datetime.now()\n",
    "t_for = t_end - t_start\n",
    "print(t_for)\n",
    "print(\"Difference of [t_for - t_numpy] = \", t_for - t_numpy)\n",
    "\n"
   ]
  },
  {
   "cell_type": "markdown",
   "id": "da19055b",
   "metadata": {},
   "source": [
    "---"
   ]
  },
  {
   "cell_type": "markdown",
   "id": "c0c5fe06",
   "metadata": {},
   "source": [
    "### Controlled-$O_i$を量子回路に実装する。"
   ]
  },
  {
   "cell_type": "code",
   "execution_count": 9,
   "id": "a2565530",
   "metadata": {},
   "outputs": [],
   "source": [
    "\"\"\"\n",
    "    Add controlled selected observable Oi to quantum circuit.\n",
    "\"\"\"\n",
    "def observable_circuit_drawer(δ,λ,nqubits,circuit,sampled_Obs):\n",
    "    index = sampled_Obs[1]\n",
    "    gate = sampled_Obs[0]\n",
    "    Obs_gate = Identity(index)\n",
    "    if gate == 3:\n",
    "        Obs_gate = merge(Obs_gate,Z(index))\n",
    "        Obs_gate = merge(Obs_gate,Z((index+1)%(nqubits-1)))\n",
    "        Obs_mat_gate = to_matrix_gate(Obs_gate)\n",
    "    else:\n",
    "        Obs_gate = merge(Obs_gate,X(index))\n",
    "        Obs_mat_gate = to_matrix_gate(Obs_gate)\n",
    "    control_index = nqubits-1\n",
    "    control_with_value = 1\n",
    "    Obs_mat_gate.add_control_qubit(control_index,control_with_value)\n",
    "    circuit.add_gate(Obs_mat_gate)\n",
    "    \n",
    "    \n",
    "    "
   ]
  },
  {
   "cell_type": "code",
   "execution_count": 33,
   "id": "01187f55",
   "metadata": {},
   "outputs": [],
   "source": [
    "a = np.array([1, 5, 12, 0, 5, 1])"
   ]
  },
  {
   "cell_type": "code",
   "execution_count": 35,
   "id": "4457f6b9",
   "metadata": {},
   "outputs": [],
   "source": [
    "np.put(a, 5, 500)"
   ]
  },
  {
   "cell_type": "code",
   "execution_count": 36,
   "id": "00018e28",
   "metadata": {},
   "outputs": [
    {
     "data": {
      "text/plain": [
       "array([  1,   5,  12,   0,   5, 500])"
      ]
     },
     "execution_count": 36,
     "metadata": {},
     "output_type": "execute_result"
    }
   ],
   "source": [
    "a"
   ]
  },
  {
   "cell_type": "code",
   "execution_count": 30,
   "id": "120673cf",
   "metadata": {},
   "outputs": [
    {
     "name": "stdout",
     "output_type": "stream",
     "text": [
      "0b10\n",
      "0b11\n"
     ]
    }
   ],
   "source": [
    "\"\"\"\n",
    "    Check the function of \"merge\".\n",
    "\"\"\"\n",
    "nqubits = 2\n",
    "state = QuantumState(nqubits)\n",
    "state.set_zero_state()\n",
    "a = Identity(0)\n",
    "b = X(1)\n",
    "c = merge(a,b)\n",
    "c.update_quantum_state(state)\n",
    "print(bin(state.sampling(1)[0]))\n",
    "\n",
    "\n",
    "nqubits = 2\n",
    "state = QuantumState(nqubits)\n",
    "state.set_zero_state()\n",
    "a = Identity(0)\n",
    "b = X(1)\n",
    "c = merge(a,b)\n",
    "d = X(0)\n",
    "e = merge(c,d)\n",
    "e.update_quantum_state(state)\n",
    "print(bin(state.sampling(1)[0]))\n",
    "\n"
   ]
  },
  {
   "cell_type": "code",
   "execution_count": 46,
   "id": "468d5185",
   "metadata": {},
   "outputs": [
    {
     "data": {
      "image/png": "[encoded data removed]",
      "text/plain": [
       "<Figure size 259.2x367.2 with 1 Axes>"
      ]
     },
     "metadata": {},
     "output_type": "display_data"
    },
    {
     "name": "stdout",
     "output_type": "stream",
     "text": [
      "[8, 8, 8, 8, 8, 8, 8, 8, 8, 8]\n",
      "0b1000\n"
     ]
    },
    {
     "data": {
      "image/png": "[encoded data removed]",
      "text/plain": [
       "<Figure size 259.2x367.2 with 1 Axes>"
      ]
     },
     "metadata": {},
     "output_type": "display_data"
    },
    {
     "name": "stdout",
     "output_type": "stream",
     "text": [
      "[9, 9, 9, 9, 9, 9, 9, 9, 9, 9]\n",
      "0b1001\n"
     ]
    },
    {
     "data": {
      "image/png": "[encoded data removed]",
      "text/plain": [
       "<Figure size 259.2x367.2 with 1 Axes>"
      ]
     },
     "metadata": {},
     "output_type": "display_data"
    },
    {
     "name": "stdout",
     "output_type": "stream",
     "text": [
      "[11, 11, 11, 11, 11, 11, 11, 11, 11, 11]\n",
      "0b1011\n"
     ]
    },
    {
     "data": {
      "image/png": "[encoded data removed]",
      "text/plain": [
       "<Figure size 259.2x367.2 with 1 Axes>"
      ]
     },
     "metadata": {},
     "output_type": "display_data"
    },
    {
     "name": "stdout",
     "output_type": "stream",
     "text": [
      "[3, 3, 3, 3, 3, 3, 3, 3, 3, 3]\n",
      "0b11\n"
     ]
    },
    {
     "data": {
      "image/png": "[encoded data removed]",
      "text/plain": [
       "<Figure size 259.2x367.2 with 1 Axes>"
      ]
     },
     "metadata": {},
     "output_type": "display_data"
    },
    {
     "name": "stdout",
     "output_type": "stream",
     "text": [
      "[12, 12, 12, 12, 12, 12, 12, 12, 12, 12]\n",
      "0b1100\n"
     ]
    }
   ],
   "source": [
    "\"\"\"\n",
    "    Check if the function \"observable_circuit_drawer\" is working correctly.\n",
    "\"\"\"\n",
    "δ = 0.1\n",
    "λ = 1.0\n",
    "nqubits = 4\n",
    "circuit = QuantumCircuit(nqubits)\n",
    "circuit.add_X_gate(nqubits-1)\n",
    "sampled_Obs = [3, 0, 3.0] # [gate,index,coefficient] => Z_0Z_1\n",
    "observable_circuit_drawer(δ,λ,nqubits,circuit,sampled_Obs)\n",
    "circuit_drawer(circuit,\"mpl\")\n",
    "\n",
    "state = QuantumState(nqubits)\n",
    "state.set_zero_state()\n",
    "circuit.update_quantum_state(state)\n",
    "res_sampling = state.sampling(10)\n",
    "print(res_sampling)\n",
    "print(bin(res_sampling[0]))\n",
    "\n",
    "\n",
    "\n",
    "δ = 0.1\n",
    "λ = 1.0\n",
    "nqubits = 4\n",
    "circuit = QuantumCircuit(nqubits)\n",
    "circuit.add_X_gate(nqubits-1)\n",
    "circuit.add_X_gate(0)\n",
    "sampled_Obs = [3, 0, 3.0] # [gate,index,coefficient] => Z_0Z_1\n",
    "observable_circuit_drawer(δ,λ,nqubits,circuit,sampled_Obs)\n",
    "circuit_drawer(circuit,\"mpl\")\n",
    "\n",
    "state = QuantumState(nqubits)\n",
    "state.set_zero_state()\n",
    "circuit.update_quantum_state(state)\n",
    "res_sampling = state.sampling(10)\n",
    "print(res_sampling)\n",
    "print(bin(res_sampling[0]))\n",
    "\n",
    "\n",
    "\n",
    "δ = 0.1\n",
    "λ = 1.0\n",
    "nqubits = 4\n",
    "circuit = QuantumCircuit(nqubits)\n",
    "circuit.add_X_gate(nqubits-1)\n",
    "circuit.add_X_gate(0)\n",
    "circuit.add_X_gate(1)\n",
    "sampled_Obs = [3, 0, 3.0] # [gate,index,coefficient] => Z_0Z_1\n",
    "observable_circuit_drawer(δ,λ,nqubits,circuit,sampled_Obs)\n",
    "circuit_drawer(circuit,\"mpl\")\n",
    "\n",
    "state = QuantumState(nqubits)\n",
    "state.set_zero_state()\n",
    "circuit.update_quantum_state(state)\n",
    "res_sampling = state.sampling(10)\n",
    "print(res_sampling)\n",
    "print(bin(res_sampling[0]))\n",
    "\n",
    "\n",
    "\n",
    "δ = 0.1\n",
    "λ = 1.0\n",
    "nqubits = 4\n",
    "circuit = QuantumCircuit(nqubits)\n",
    "circuit.add_X_gate(0)\n",
    "circuit.add_X_gate(1)\n",
    "sampled_Obs = [3, 0, 3.0] # [gate,index,coefficient] => Z_0Z_1\n",
    "observable_circuit_drawer(δ,λ,nqubits,circuit,sampled_Obs)\n",
    "circuit_drawer(circuit,\"mpl\")\n",
    "\n",
    "state = QuantumState(nqubits)\n",
    "state.set_zero_state()\n",
    "circuit.update_quantum_state(state)\n",
    "res_sampling = state.sampling(10)\n",
    "print(res_sampling)\n",
    "print(bin(res_sampling[0]))\n",
    "\n",
    "\n",
    "\n",
    "δ = 0.1\n",
    "λ = 1.0\n",
    "nqubits = 4\n",
    "circuit = QuantumCircuit(nqubits)\n",
    "circuit.add_X_gate(nqubits-1)\n",
    "sampled_Obs = [1, 2, 3.0] # [gate,index,coefficient] => X_0\n",
    "observable_circuit_drawer(δ,λ,nqubits,circuit,sampled_Obs)\n",
    "circuit_drawer(circuit,\"mpl\")\n",
    "\n",
    "state = QuantumState(nqubits)\n",
    "state.set_zero_state()\n",
    "circuit.update_quantum_state(state)\n",
    "res_sampling = state.sampling(10)\n",
    "print(res_sampling)\n",
    "print(bin(res_sampling[0]))\n",
    "\n"
   ]
  },
  {
   "cell_type": "markdown",
   "id": "77d9280d",
   "metadata": {},
   "source": [
    "### 補助量子ビットの結果だけをMs回サンプルした結果から抽出する。"
   ]
  },
  {
   "cell_type": "code",
   "execution_count": 10,
   "id": "6ccd624b",
   "metadata": {},
   "outputs": [],
   "source": [
    "\"\"\"\n",
    "    Extract only an ancillary qubit's result from Ms sampled result.\n",
    "\"\"\"\n",
    "def extract_result(samples,nqubits):\n",
    "    length = len(samples)\n",
    "    res = []\n",
    "    for sample in samples:\n",
    "        bin_result = list(bin(sample))[2:]\n",
    "        # print(\"bin_result : \",bin_result)\n",
    "        require_num_0 = nqubits-len(bin_result)\n",
    "        fixed_bin_result = [0 for i in range(require_num_0)] + bin_result\n",
    "        # print(\"fixed_bin_result : \",fixed_bin_result)\n",
    "        res.append(int(fixed_bin_result[0]))\n",
    "    print(res)\n",
    "    return res"
   ]
  },
  {
   "cell_type": "code",
   "execution_count": 27,
   "id": "f765b30f",
   "metadata": {},
   "outputs": [
    {
     "name": "stdout",
     "output_type": "stream",
     "text": [
      "[0, 0, 1]\n"
     ]
    },
    {
     "data": {
      "text/plain": [
       "[0, 0, 1]"
      ]
     },
     "execution_count": 27,
     "metadata": {},
     "output_type": "execute_result"
    }
   ],
   "source": [
    "\"\"\"\n",
    "    Check if the function \"extract_result\" is working correctly.\n",
    "\"\"\"\n",
    "samples = [0b110,0b1,0b1000]\n",
    "nqubits = 4\n",
    "extract_result(samples,nqubits)"
   ]
  },
  {
   "cell_type": "markdown",
   "id": "32ffb94f",
   "metadata": {},
   "source": [
    "### 実装"
   ]
  },
  {
   "cell_type": "code",
   "execution_count": 12,
   "id": "e0108380",
   "metadata": {},
   "outputs": [
    {
     "name": "stdout",
     "output_type": "stream",
     "text": [
      "Sampling preparation finished.\n"
     ]
    },
    {
     "data": {
      "image/png": "[encoded data removed]",
      "text/plain": [
       "<Figure size 194.4x453.6 with 1 Axes>"
      ]
     },
     "metadata": {},
     "output_type": "display_data"
    }
   ],
   "source": [
    "# number of qubits without an ancillary qubit.\n",
    "n_qubits = 4\n",
    "# number of all qubits.\n",
    "nqubits = n_qubits + 1 #  nqubits => _ext\n",
    "state_original = QuantumState(nqubits)\n",
    "state_original.set_zero_state()\n",
    "\n",
    "# trotter stride\n",
    "δ = 0.1\n",
    "# parameter\n",
    "λ = 1\n",
    "E_0 = 0\n",
    "β=0.01\n",
    "τ=10\n",
    "# number of random sampling (t,t')\n",
    "Ns = 10**1\n",
    "# number of circuit shots\n",
    "Ms = 10**1\n",
    "# range of (t,t')\n",
    "tmax = 0.5\n",
    "tmin = -1*tmax\n",
    "# time to simulate\n",
    "t_1s = np.array([sampling(tmin,tmax,β,τ) for i in range(Ns)]) # ts\n",
    "t_2s = np.array([sampling(tmin,tmax,β,τ) for i in range(Ns)]) # t's\n",
    "print(\"Sampling preparation finished.\")\n",
    "# Select observable Oi from O = ΣaiOi by sampling according to its distribution |aj|/aO and add to quantum circuit.\n",
    "aO,sampled_Obs = select_obs_Ising(nqubits,-1*(2-λ),-1*λ,Ns)\n",
    "# print(sampled_Obs) => [[gate,index,coefficient],...]\n",
    "# print(aO) => aO=Σai\n",
    "\n",
    "# prepare initial state (U_i tensor H)(|Ψ> tensor |0>)\n",
    "circuit_trotter_Ising_original = QuantumCircuit(nqubits)\n",
    "circuit_trotter_Ising_original.add_H_gate(nqubits-1)\n",
    "target_list = [i for i in range(nqubits-1)] ####### numpyでも良い？\n",
    "random_unitary_gate = RandomUnitary(target_list)\n",
    "circuit_trotter_Ising_original.add_gate(random_unitary_gate)\n",
    "\n",
    "circuit_drawer(circuit_trotter_Ising_original,\"mpl\")\n",
    "\n",
    "\n"
   ]
  },
  {
   "cell_type": "markdown",
   "id": "137b6e16",
   "metadata": {},
   "source": [
    "## X測定"
   ]
  },
  {
   "cell_type": "code",
   "execution_count": 48,
   "id": "b4ea9d6d",
   "metadata": {},
   "outputs": [
    {
     "name": "stdout",
     "output_type": "stream",
     "text": [
      "count_t_1 =  1  out of 100.\n",
      "Elapsed Time_i:  0:00:11.393011\n"
     ]
    },
    {
     "ename": "KeyboardInterrupt",
     "evalue": "",
     "output_type": "error",
     "traceback": [
      "\u001b[0;31m---------------------------------------------------------------------------\u001b[0m",
      "\u001b[0;31mKeyboardInterrupt\u001b[0m                         Traceback (most recent call last)",
      "\u001b[0;32m<ipython-input-48-58038f7d5d11>\u001b[0m in \u001b[0;36m<module>\u001b[0;34m\u001b[0m\n\u001b[1;32m     34\u001b[0m             \u001b[0;32mfor\u001b[0m \u001b[0ms\u001b[0m \u001b[0;32min\u001b[0m \u001b[0msamples\u001b[0m\u001b[0;34m:\u001b[0m\u001b[0;34m\u001b[0m\u001b[0;34m\u001b[0m\u001b[0m\n\u001b[1;32m     35\u001b[0m                 \u001b[0mbitcount\u001b[0m \u001b[0;34m=\u001b[0m \u001b[0mbin\u001b[0m\u001b[0;34m(\u001b[0m\u001b[0ms\u001b[0m \u001b[0;34m&\u001b[0m \u001b[0mmask\u001b[0m\u001b[0;34m)\u001b[0m\u001b[0;34m.\u001b[0m\u001b[0mcount\u001b[0m\u001b[0;34m(\u001b[0m\u001b[0;34m\"1\"\u001b[0m\u001b[0;34m)\u001b[0m\u001b[0;34m\u001b[0m\u001b[0;34m\u001b[0m\u001b[0m\n\u001b[0;32m---> 36\u001b[0;31m                 \u001b[0mestimated_X\u001b[0m \u001b[0;34m+=\u001b[0m \u001b[0mnp\u001b[0m\u001b[0;34m.\u001b[0m\u001b[0msign\u001b[0m\u001b[0;34m(\u001b[0m\u001b[0mobs\u001b[0m\u001b[0;34m[\u001b[0m\u001b[0;36m2\u001b[0m\u001b[0;34m]\u001b[0m\u001b[0;34m)\u001b[0m\u001b[0;34m*\u001b[0m\u001b[0mnp\u001b[0m\u001b[0;34m.\u001b[0m\u001b[0mexp\u001b[0m\u001b[0;34m(\u001b[0m\u001b[0mE_0\u001b[0m\u001b[0;34m*\u001b[0m\u001b[0;34m(\u001b[0m\u001b[0mt_1\u001b[0m\u001b[0;34m-\u001b[0m\u001b[0mt_2\u001b[0m\u001b[0;34m)\u001b[0m\u001b[0;34m)\u001b[0m\u001b[0;34m*\u001b[0m\u001b[0;34m(\u001b[0m\u001b[0;34m-\u001b[0m\u001b[0;36m1\u001b[0m\u001b[0;34m)\u001b[0m\u001b[0;34m**\u001b[0m\u001b[0mbitcount\u001b[0m\u001b[0;34m/\u001b[0m\u001b[0mMs\u001b[0m\u001b[0;34m\u001b[0m\u001b[0;34m\u001b[0m\u001b[0m\n\u001b[0m\u001b[1;32m     37\u001b[0m \u001b[0;34m\u001b[0m\u001b[0m\n\u001b[1;32m     38\u001b[0m             \u001b[0mcircuit_trotter_Ising\u001b[0m\u001b[0;34m.\u001b[0m\u001b[0madd_H_gate\u001b[0m\u001b[0;34m(\u001b[0m\u001b[0mnqubits\u001b[0m\u001b[0;34m-\u001b[0m\u001b[0;36m1\u001b[0m\u001b[0;34m)\u001b[0m\u001b[0;34m\u001b[0m\u001b[0;34m\u001b[0m\u001b[0m\n",
      "\u001b[0;31mKeyboardInterrupt\u001b[0m: "
     ]
    }
   ],
   "source": [
    "# time measure\n",
    "t_start = dt.datetime.now()\n",
    "\n",
    "res_X_sampling = np.array([])\n",
    "count_t_1 = 0\n",
    "for t_1 in t_1s:\n",
    "    t_start_i = dt.datetime.now()\n",
    "    count_t_1 += 1\n",
    "    for t_2 in t_2s:\n",
    "        # prepare trotter part\n",
    "        circuit_trotter_Ising_original_copy = circuit_trotter_Ising_original.copy()\n",
    "        trotter_Ising_circuit_drawer(t_1,δ,λ,nqubits,circuit_trotter_Ising_original_copy)\n",
    "        circuit_trotter_Ising_original_copy.add_X_gate(nqubits-1)\n",
    "        trotter_Ising_circuit_drawer(t_2,δ,λ,nqubits,circuit_trotter_Ising_original_copy)\n",
    "        circuit_trotter_Ising_original_copy.add_X_gate(nqubits-1)\n",
    "\n",
    "        #### circuit_drawer(circuit_trotter_Ising_original_copy,\"mpl\")\n",
    "\n",
    "        for obs in sampled_Obs: # => functionにすべき？\n",
    "            circuit_trotter_Ising = circuit_trotter_Ising_original_copy.copy()\n",
    "            state = state_original.copy()\n",
    "            observable_circuit_drawer(δ,λ,nqubits,circuit_trotter_Ising,obs)\n",
    "            #### circuit_drawer(circuit_trotter_Ising,\"mpl\")\n",
    "\n",
    "            # change basis to measure\n",
    "            circuit_trotter_Ising.add_H_gate(nqubits-1)\n",
    "\n",
    "            #### circuit_drawer(circuit_trotter_Ising,\"mpl\")\n",
    "\n",
    "            circuit_trotter_Ising.update_quantum_state(state)\n",
    "            samples = state.sampling(Ms) # [2, 5, 12, 98]\n",
    "            estimated_X = 0\n",
    "            mask = int(\"1\" + \"0\"*(nqubits-1),2)\n",
    "            for s in samples:\n",
    "                bitcount = bin(s & mask).count(\"1\")\n",
    "                estimated_X += np.sign(obs[2])*np.exp(E_0*(t_1-t_2))*(-1)**bitcount/Ms\n",
    "\n",
    "            circuit_trotter_Ising.add_H_gate(nqubits-1)\n",
    "            res_X_sampling = np.append(res_X_sampling,estimated_X)\n",
    "    print(\"count_t_1 = \",count_t_1,f' out of {Ns}.')\n",
    "    t_end_i = dt.datetime.now()\n",
    "    print('Elapsed Time_i: ', t_end_i - t_start_i)\n",
    "\n",
    "print(np.sum(res_X_sampling)*aO/Ns)\n",
    "\n",
    "# time measure\n",
    "t_end = dt.datetime.now()\n",
    "print('Elapsed Time: ', t_end - t_start)"
   ]
  },
  {
   "cell_type": "markdown",
   "id": "d93e66cb",
   "metadata": {},
   "source": [
    "---"
   ]
  },
  {
   "cell_type": "markdown",
   "id": "1a071501",
   "metadata": {},
   "source": [
    "## Y測定"
   ]
  },
  {
   "cell_type": "code",
   "execution_count": 41,
   "id": "973a6c56",
   "metadata": {},
   "outputs": [
    {
     "name": "stdout",
     "output_type": "stream",
     "text": [
      "count_t_1 =  1  out of 100.\n",
      "Elapsed Time_i:  0:00:20.010198\n",
      "count_t_1 =  2  out of 100.\n",
      "Elapsed Time_i:  0:00:16.455064\n",
      "count_t_1 =  3  out of 100.\n",
      "Elapsed Time_i:  0:00:16.174838\n",
      "count_t_1 =  4  out of 100.\n",
      "Elapsed Time_i:  0:00:16.362189\n",
      "count_t_1 =  5  out of 100.\n",
      "Elapsed Time_i:  0:00:16.720754\n",
      "count_t_1 =  6  out of 100.\n",
      "Elapsed Time_i:  0:00:16.718605\n",
      "count_t_1 =  7  out of 100.\n",
      "Elapsed Time_i:  0:00:16.675184\n",
      "count_t_1 =  8  out of 100.\n",
      "Elapsed Time_i:  0:00:16.873231\n",
      "count_t_1 =  9  out of 100.\n",
      "Elapsed Time_i:  0:00:16.908442\n",
      "count_t_1 =  10  out of 100.\n",
      "Elapsed Time_i:  0:00:17.337390\n",
      "count_t_1 =  11  out of 100.\n",
      "Elapsed Time_i:  0:00:17.068551\n",
      "count_t_1 =  12  out of 100.\n",
      "Elapsed Time_i:  0:00:17.254826\n",
      "count_t_1 =  13  out of 100.\n",
      "Elapsed Time_i:  0:00:17.630172\n",
      "count_t_1 =  14  out of 100.\n",
      "Elapsed Time_i:  0:00:17.503856\n",
      "count_t_1 =  15  out of 100.\n",
      "Elapsed Time_i:  0:00:17.710496\n",
      "count_t_1 =  16  out of 100.\n",
      "Elapsed Time_i:  0:00:17.751549\n",
      "count_t_1 =  17  out of 100.\n",
      "Elapsed Time_i:  0:00:18.048691\n",
      "count_t_1 =  18  out of 100.\n",
      "Elapsed Time_i:  0:00:18.041787\n",
      "count_t_1 =  19  out of 100.\n",
      "Elapsed Time_i:  0:00:18.354925\n",
      "count_t_1 =  20  out of 100.\n",
      "Elapsed Time_i:  0:00:18.424190\n",
      "count_t_1 =  21  out of 100.\n",
      "Elapsed Time_i:  0:00:18.338501\n",
      "count_t_1 =  22  out of 100.\n",
      "Elapsed Time_i:  0:00:19.470998\n",
      "count_t_1 =  23  out of 100.\n",
      "Elapsed Time_i:  0:00:18.388742\n",
      "count_t_1 =  24  out of 100.\n",
      "Elapsed Time_i:  0:00:18.753522\n",
      "count_t_1 =  25  out of 100.\n",
      "Elapsed Time_i:  0:00:18.951368\n",
      "count_t_1 =  26  out of 100.\n",
      "Elapsed Time_i:  0:00:18.895188\n",
      "count_t_1 =  27  out of 100.\n",
      "Elapsed Time_i:  0:00:18.980052\n",
      "count_t_1 =  28  out of 100.\n",
      "Elapsed Time_i:  0:00:19.037880\n",
      "count_t_1 =  29  out of 100.\n",
      "Elapsed Time_i:  0:00:19.015097\n",
      "count_t_1 =  30  out of 100.\n",
      "Elapsed Time_i:  0:00:19.440103\n",
      "count_t_1 =  31  out of 100.\n",
      "Elapsed Time_i:  0:00:19.770284\n",
      "count_t_1 =  32  out of 100.\n",
      "Elapsed Time_i:  0:00:19.681912\n",
      "count_t_1 =  33  out of 100.\n",
      "Elapsed Time_i:  0:00:20.078622\n",
      "count_t_1 =  34  out of 100.\n",
      "Elapsed Time_i:  0:00:21.355243\n",
      "count_t_1 =  35  out of 100.\n",
      "Elapsed Time_i:  0:00:20.240979\n",
      "count_t_1 =  36  out of 100.\n",
      "Elapsed Time_i:  0:00:20.127195\n",
      "count_t_1 =  37  out of 100.\n",
      "Elapsed Time_i:  0:00:20.375497\n",
      "count_t_1 =  38  out of 100.\n",
      "Elapsed Time_i:  0:00:20.433832\n",
      "count_t_1 =  39  out of 100.\n",
      "Elapsed Time_i:  0:00:20.828581\n",
      "count_t_1 =  40  out of 100.\n",
      "Elapsed Time_i:  0:00:21.342104\n",
      "count_t_1 =  41  out of 100.\n",
      "Elapsed Time_i:  0:00:20.716058\n",
      "count_t_1 =  42  out of 100.\n",
      "Elapsed Time_i:  0:00:20.896480\n",
      "count_t_1 =  43  out of 100.\n",
      "Elapsed Time_i:  0:00:21.723847\n",
      "count_t_1 =  44  out of 100.\n",
      "Elapsed Time_i:  0:00:21.395306\n",
      "count_t_1 =  45  out of 100.\n",
      "Elapsed Time_i:  0:00:21.496305\n",
      "count_t_1 =  46  out of 100.\n",
      "Elapsed Time_i:  0:00:22.009110\n",
      "count_t_1 =  47  out of 100.\n",
      "Elapsed Time_i:  0:00:21.948641\n",
      "count_t_1 =  48  out of 100.\n",
      "Elapsed Time_i:  0:00:22.781652\n",
      "count_t_1 =  49  out of 100.\n",
      "Elapsed Time_i:  0:00:22.799836\n",
      "count_t_1 =  50  out of 100.\n",
      "Elapsed Time_i:  0:00:22.841040\n",
      "count_t_1 =  51  out of 100.\n",
      "Elapsed Time_i:  0:00:23.138808\n",
      "count_t_1 =  52  out of 100.\n",
      "Elapsed Time_i:  0:00:22.954263\n",
      "count_t_1 =  53  out of 100.\n",
      "Elapsed Time_i:  0:00:23.304615\n",
      "count_t_1 =  54  out of 100.\n",
      "Elapsed Time_i:  0:00:23.558745\n",
      "count_t_1 =  55  out of 100.\n",
      "Elapsed Time_i:  0:00:23.771396\n",
      "count_t_1 =  56  out of 100.\n",
      "Elapsed Time_i:  0:00:24.700532\n",
      "count_t_1 =  57  out of 100.\n",
      "Elapsed Time_i:  0:00:23.750318\n",
      "count_t_1 =  58  out of 100.\n",
      "Elapsed Time_i:  0:00:24.484584\n",
      "count_t_1 =  59  out of 100.\n",
      "Elapsed Time_i:  0:00:24.651774\n",
      "count_t_1 =  60  out of 100.\n",
      "Elapsed Time_i:  0:00:24.726836\n",
      "count_t_1 =  61  out of 100.\n",
      "Elapsed Time_i:  0:00:25.802017\n",
      "count_t_1 =  62  out of 100.\n",
      "Elapsed Time_i:  0:00:24.902886\n",
      "count_t_1 =  63  out of 100.\n",
      "Elapsed Time_i:  0:00:25.626223\n",
      "count_t_1 =  64  out of 100.\n",
      "Elapsed Time_i:  0:00:25.776269\n",
      "count_t_1 =  65  out of 100.\n",
      "Elapsed Time_i:  0:00:25.708223\n",
      "count_t_1 =  66  out of 100.\n",
      "Elapsed Time_i:  0:00:26.211527\n",
      "count_t_1 =  67  out of 100.\n",
      "Elapsed Time_i:  0:00:26.033874\n",
      "count_t_1 =  68  out of 100.\n",
      "Elapsed Time_i:  0:00:26.645923\n",
      "count_t_1 =  69  out of 100.\n",
      "Elapsed Time_i:  0:00:26.499812\n",
      "count_t_1 =  70  out of 100.\n",
      "Elapsed Time_i:  0:00:27.156229\n",
      "count_t_1 =  71  out of 100.\n",
      "Elapsed Time_i:  0:00:27.077867\n",
      "count_t_1 =  72  out of 100.\n",
      "Elapsed Time_i:  0:00:27.988097\n",
      "count_t_1 =  73  out of 100.\n",
      "Elapsed Time_i:  0:00:27.380974\n",
      "count_t_1 =  74  out of 100.\n",
      "Elapsed Time_i:  0:00:27.331107\n",
      "count_t_1 =  75  out of 100.\n",
      "Elapsed Time_i:  0:00:28.708760\n",
      "count_t_1 =  76  out of 100.\n",
      "Elapsed Time_i:  0:00:27.892134\n",
      "count_t_1 =  77  out of 100.\n",
      "Elapsed Time_i:  0:00:28.630005\n",
      "count_t_1 =  78  out of 100.\n",
      "Elapsed Time_i:  0:00:28.423858\n",
      "count_t_1 =  79  out of 100.\n",
      "Elapsed Time_i:  0:00:28.846091\n",
      "count_t_1 =  80  out of 100.\n",
      "Elapsed Time_i:  0:00:28.729072\n",
      "count_t_1 =  81  out of 100.\n",
      "Elapsed Time_i:  0:00:29.151647\n",
      "count_t_1 =  82  out of 100.\n",
      "Elapsed Time_i:  0:00:28.762987\n",
      "count_t_1 =  83  out of 100.\n",
      "Elapsed Time_i:  0:00:31.604192\n",
      "count_t_1 =  84  out of 100.\n",
      "Elapsed Time_i:  0:00:29.464998\n",
      "count_t_1 =  85  out of 100.\n",
      "Elapsed Time_i:  0:00:29.594157\n",
      "count_t_1 =  86  out of 100.\n",
      "Elapsed Time_i:  0:00:29.806698\n",
      "count_t_1 =  87  out of 100.\n",
      "Elapsed Time_i:  0:00:30.373498\n",
      "count_t_1 =  88  out of 100.\n",
      "Elapsed Time_i:  0:00:30.198483\n",
      "count_t_1 =  89  out of 100.\n",
      "Elapsed Time_i:  0:00:30.508627\n",
      "count_t_1 =  90  out of 100.\n",
      "Elapsed Time_i:  0:00:30.334758\n",
      "count_t_1 =  91  out of 100.\n",
      "Elapsed Time_i:  0:00:31.002847\n",
      "count_t_1 =  92  out of 100.\n",
      "Elapsed Time_i:  0:00:31.032603\n",
      "count_t_1 =  93  out of 100.\n",
      "Elapsed Time_i:  0:00:31.443573\n",
      "count_t_1 =  94  out of 100.\n",
      "Elapsed Time_i:  0:00:31.618133\n",
      "count_t_1 =  95  out of 100.\n",
      "Elapsed Time_i:  0:00:32.274470\n",
      "count_t_1 =  96  out of 100.\n",
      "Elapsed Time_i:  0:00:31.676087\n",
      "count_t_1 =  97  out of 100.\n",
      "Elapsed Time_i:  0:00:31.852257\n",
      "count_t_1 =  98  out of 100.\n",
      "Elapsed Time_i:  0:00:32.190493\n",
      "count_t_1 =  99  out of 100.\n",
      "Elapsed Time_i:  0:00:32.304861\n",
      "count_t_1 =  100  out of 100.\n",
      "Elapsed Time_i:  0:00:33.444739\n",
      "result of Y measurement :  129.19824092836143\n",
      "Elapsed Time:  0:39:19.203206\n"
     ]
    }
   ],
   "source": [
    "# time measure\n",
    "t_start = dt.datetime.now()\n",
    "\n",
    "res_Y_sampling = np.array([])\n",
    "count_t_1 = 0\n",
    "for t_1 in t_1s:\n",
    "    t_start_i = dt.datetime.now()\n",
    "    count_t_1 += 1\n",
    "    for t_2 in t_2s:\n",
    "        # prepare trotter part\n",
    "        circuit_trotter_Ising_original_copy = circuit_trotter_Ising_original.copy()\n",
    "        trotter_Ising_circuit_drawer(t_1,δ,λ,nqubits,circuit_trotter_Ising_original_copy)\n",
    "        circuit_trotter_Ising_original_copy.add_X_gate(nqubits-1)\n",
    "        trotter_Ising_circuit_drawer(t_2,δ,λ,nqubits,circuit_trotter_Ising_original_copy)\n",
    "        circuit_trotter_Ising_original_copy.add_X_gate(nqubits-1)\n",
    "\n",
    "        #### circuit_drawer(circuit_trotter_Ising_original_copy,\"mpl\")\n",
    "\n",
    "        for obs in sampled_Obs:\n",
    "            circuit_trotter_Ising = circuit_trotter_Ising_original_copy.copy()\n",
    "            state = state_original.copy()\n",
    "            observable_circuit_drawer(δ,λ,nqubits,circuit_trotter_Ising,obs)\n",
    "            #### circuit_drawer(circuit_trotter_Ising,\"mpl\")\n",
    "\n",
    "            # change basis to measure\n",
    "            circuit_trotter_Ising.add_Sdag_gate(nqubits-1)\n",
    "            circuit_trotter_Ising.add_H_gate(nqubits-1)\n",
    "\n",
    "            #### circuit_drawer(circuit_trotter_Ising,\"mpl\")\n",
    "\n",
    "            circuit_trotter_Ising.update_quantum_state(state)\n",
    "            samples = state.sampling(Ms)\n",
    "            estimated_Y = 0\n",
    "            mask = int(\"1\" + \"0\"*(nqubits-1),2)\n",
    "            for s in samples:\n",
    "                bitcount = bin(s & mask).count(\"1\")\n",
    "                estimated_Y += np.sign(obs[2])*np.exp(E_0*(t_1-t_2))*(-1)**bitcount/Ms\n",
    "\n",
    "            circuit_trotter_Ising.add_H_gate(nqubits-1)\n",
    "            circuit_trotter_Ising.add_S_gate(nqubits-1)\n",
    "            res_Y_sampling = np.append(res_Y_sampling,estimated_Y)\n",
    "    print(\"count_t_1 = \",count_t_1,f' out of {Ns}.')\n",
    "    t_end_i = dt.datetime.now()\n",
    "    print('Elapsed Time_i: ', t_end_i - t_start_i)\n",
    "print(\"result of Y measurement : \",np.sum(res_Y_sampling)*aO/Ns)\n",
    "\n",
    "# time measure\n",
    "t_end = dt.datetime.now()\n",
    "print('Elapsed Time: ', t_end - t_start)"
   ]
  },
  {
   "cell_type": "code",
   "execution_count": 173,
   "id": "7a764efb",
   "metadata": {},
   "outputs": [
    {
     "data": {
      "text/plain": [
       "array([2., 3.])"
      ]
     },
     "execution_count": 173,
     "metadata": {},
     "output_type": "execute_result"
    }
   ],
   "source": [
    "a = np.array([])\n",
    "a = np.append(a,2)\n",
    "a = np.append(a,3)\n",
    "a"
   ]
  },
  {
   "cell_type": "code",
   "execution_count": 561,
   "id": "2327ba31",
   "metadata": {},
   "outputs": [
    {
     "data": {
      "text/plain": [
       "(4+16j)"
      ]
     },
     "execution_count": 561,
     "metadata": {},
     "output_type": "execute_result"
    }
   ],
   "source": [
    "res = res_X_sampling + res_Y_sampling*1j\n",
    "res"
   ]
  },
  {
   "cell_type": "code",
   "execution_count": 180,
   "id": "f3507c8e",
   "metadata": {},
   "outputs": [
    {
     "name": "stdout",
     "output_type": "stream",
     "text": [
      " *** Quantum State ***\n",
      " * Qubit Count : 2\n",
      " * Dimension   : 4\n",
      " * State vector : \n",
      "(1,0)\n",
      "(0,0)\n",
      "(0,0)\n",
      "(0,0)\n",
      "\n",
      " *** Quantum State ***\n",
      " * Qubit Count : 2\n",
      " * Dimension   : 4\n",
      " * State vector : \n",
      "(0,0)\n",
      "(1,0)\n",
      "(0,0)\n",
      "(0,0)\n",
      "\n"
     ]
    }
   ],
   "source": [
    "state = QuantumState(2)\n",
    "state.set_zero_state()\n",
    "a = state.copy()\n",
    "b = X(0).update_quantum_state(a)\n",
    "print(state)\n",
    "print(a)"
   ]
  },
  {
   "cell_type": "code",
   "execution_count": null,
   "id": "2f3dff16",
   "metadata": {},
   "outputs": [],
   "source": []
  }
 ],
 "metadata": {
  "instance_type": "ml.t3.medium",
  "kernelspec": {
   "display_name": "Python 3 (ipykernel)",
   "language": "python",
   "name": "python3"
  },
  "language_info": {
   "codemirror_mode": {
    "name": "ipython",
    "version": 3
   },
   "file_extension": ".py",
   "mimetype": "text/x-python",
   "name": "python",
   "nbconvert_exporter": "python",
   "pygments_lexer": "ipython3",
   "version": "3.8.10"
  }
 },
 "nbformat": 4,
 "nbformat_minor": 5
}
