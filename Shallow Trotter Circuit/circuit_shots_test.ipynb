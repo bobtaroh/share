{
 "cells": [
  {
   "cell_type": "code",
   "execution_count": 1,
   "metadata": {},
   "outputs": [],
   "source": [
    "%load_ext autoreload"
   ]
  },
  {
   "cell_type": "code",
   "execution_count": 2,
   "metadata": {},
   "outputs": [],
   "source": [
    "%autoreload 2"
   ]
  },
  {
   "cell_type": "code",
   "execution_count": 3,
   "metadata": {},
   "outputs": [
    {
     "name": "stdout",
     "output_type": "stream",
     "text": [
      "Requirement already satisfied: qulacs in /home/sakaue/.local/lib/python3.8/site-packages (0.5.2)\n",
      "Requirement already satisfied: scipy in /home/sakaue/.local/lib/python3.8/site-packages (from qulacs) (1.9.3)\n",
      "Requirement already satisfied: numpy in /home/sakaue/.local/lib/python3.8/site-packages (from qulacs) (1.23.4)\n",
      "Requirement already satisfied: qulacsvis in /home/sakaue/.local/lib/python3.8/site-packages (0.3.2)\n",
      "Requirement already satisfied: dataclasses-json<0.6.0,>=0.5.7 in /home/sakaue/.local/lib/python3.8/site-packages (from qulacsvis) (0.5.7)\n",
      "Requirement already satisfied: matplotlib<4.0.0,>=3.4.3 in /home/sakaue/.local/lib/python3.8/site-packages (from qulacsvis) (3.6.1)\n",
      "Requirement already satisfied: Qulacs>=0.5.0 in /home/sakaue/.local/lib/python3.8/site-packages (from qulacsvis) (0.5.2)\n",
      "Requirement already satisfied: scipy<2.0.0,>=1.9.1 in /home/sakaue/.local/lib/python3.8/site-packages (from qulacsvis) (1.9.3)\n",
      "Requirement already satisfied: temp<2021.0.0,>=2020.7.2 in /home/sakaue/.local/lib/python3.8/site-packages (from qulacsvis) (2020.7.2)\n",
      "Requirement already satisfied: numpy<2.0.0,>=1.22.0 in /home/sakaue/.local/lib/python3.8/site-packages (from qulacsvis) (1.23.4)\n",
      "Requirement already satisfied: Pillow<10.0.0,>=9.1.0 in /home/sakaue/.local/lib/python3.8/site-packages (from qulacsvis) (9.2.0)\n",
      "Requirement already satisfied: marshmallow-enum<2.0.0,>=1.5.1 in /home/sakaue/.local/lib/python3.8/site-packages (from dataclasses-json<0.6.0,>=0.5.7->qulacsvis) (1.5.1)\n",
      "Requirement already satisfied: marshmallow<4.0.0,>=3.3.0 in /home/sakaue/.local/lib/python3.8/site-packages (from dataclasses-json<0.6.0,>=0.5.7->qulacsvis) (3.18.0)\n",
      "Requirement already satisfied: typing-inspect>=0.4.0 in /home/sakaue/.local/lib/python3.8/site-packages (from dataclasses-json<0.6.0,>=0.5.7->qulacsvis) (0.8.0)\n",
      "Requirement already satisfied: packaging>=20.0 in /usr/lib/python3/dist-packages (from matplotlib<4.0.0,>=3.4.3->qulacsvis) (20.3)\n",
      "Requirement already satisfied: python-dateutil>=2.7 in /home/sakaue/.local/lib/python3.8/site-packages (from matplotlib<4.0.0,>=3.4.3->qulacsvis) (2.8.2)\n",
      "Requirement already satisfied: cycler>=0.10 in /home/sakaue/.local/lib/python3.8/site-packages (from matplotlib<4.0.0,>=3.4.3->qulacsvis) (0.11.0)\n",
      "Requirement already satisfied: fonttools>=4.22.0 in /home/sakaue/.local/lib/python3.8/site-packages (from matplotlib<4.0.0,>=3.4.3->qulacsvis) (4.38.0)\n",
      "Requirement already satisfied: pyparsing>=2.2.1 in /usr/lib/python3/dist-packages (from matplotlib<4.0.0,>=3.4.3->qulacsvis) (2.4.6)\n",
      "Requirement already satisfied: contourpy>=1.0.1 in /home/sakaue/.local/lib/python3.8/site-packages (from matplotlib<4.0.0,>=3.4.3->qulacsvis) (1.0.5)\n",
      "Requirement already satisfied: kiwisolver>=1.0.1 in /home/sakaue/.local/lib/python3.8/site-packages (from matplotlib<4.0.0,>=3.4.3->qulacsvis) (1.4.4)\n",
      "Requirement already satisfied: mypy-extensions>=0.3.0 in /home/sakaue/.local/lib/python3.8/site-packages (from typing-inspect>=0.4.0->dataclasses-json<0.6.0,>=0.5.7->qulacsvis) (0.4.3)\n",
      "Requirement already satisfied: typing-extensions>=3.7.4 in /home/sakaue/.local/lib/python3.8/site-packages (from typing-inspect>=0.4.0->dataclasses-json<0.6.0,>=0.5.7->qulacsvis) (4.4.0)\n",
      "Requirement already satisfied: six>=1.5 in /usr/lib/python3/dist-packages (from python-dateutil>=2.7->matplotlib<4.0.0,>=3.4.3->qulacsvis) (1.14.0)\n",
      "Requirement already satisfied: matplotlib in /home/sakaue/.local/lib/python3.8/site-packages (3.6.1)\n",
      "Requirement already satisfied: packaging>=20.0 in /usr/lib/python3/dist-packages (from matplotlib) (20.3)\n",
      "Requirement already satisfied: contourpy>=1.0.1 in /home/sakaue/.local/lib/python3.8/site-packages (from matplotlib) (1.0.5)\n",
      "Requirement already satisfied: pillow>=6.2.0 in /home/sakaue/.local/lib/python3.8/site-packages (from matplotlib) (9.2.0)\n",
      "Requirement already satisfied: python-dateutil>=2.7 in /home/sakaue/.local/lib/python3.8/site-packages (from matplotlib) (2.8.2)\n",
      "Requirement already satisfied: kiwisolver>=1.0.1 in /home/sakaue/.local/lib/python3.8/site-packages (from matplotlib) (1.4.4)\n",
      "Requirement already satisfied: pyparsing>=2.2.1 in /usr/lib/python3/dist-packages (from matplotlib) (2.4.6)\n",
      "Requirement already satisfied: cycler>=0.10 in /home/sakaue/.local/lib/python3.8/site-packages (from matplotlib) (0.11.0)\n",
      "Requirement already satisfied: fonttools>=4.22.0 in /home/sakaue/.local/lib/python3.8/site-packages (from matplotlib) (4.38.0)\n",
      "Requirement already satisfied: numpy>=1.19 in /home/sakaue/.local/lib/python3.8/site-packages (from matplotlib) (1.23.4)\n",
      "Requirement already satisfied: six>=1.5 in /usr/lib/python3/dist-packages (from python-dateutil>=2.7->matplotlib) (1.14.0)\n",
      "Requirement already satisfied: numpy in /home/sakaue/.local/lib/python3.8/site-packages (1.23.4)\n",
      "Requirement already satisfied: scipy in /home/sakaue/.local/lib/python3.8/site-packages (1.9.3)\n",
      "Requirement already satisfied: numpy<1.26.0,>=1.18.5 in /home/sakaue/.local/lib/python3.8/site-packages (from scipy) (1.23.4)\n"
     ]
    }
   ],
   "source": [
    "!pip install qulacs\n",
    "!pip install qulacsvis\n",
    "!pip install matplotlib\n",
    "!pip install numpy\n",
    "!pip install scipy"
   ]
  },
  {
   "cell_type": "code",
   "execution_count": 4,
   "metadata": {},
   "outputs": [],
   "source": [
    "import matplotlib.pyplot as plt\n",
    "import numpy as np\n",
    "import time\n",
    "import datetime as dt\n",
    "import random\n",
    "import math\n",
    "import scipy.optimize\n",
    "from scipy import stats\n",
    "from scipy.integrate import quad\n",
    "from qulacs import QuantumState, Observable, QuantumCircuit\n",
    "from qulacsvis import circuit_drawer\n",
    "from qulacs.circuit import QuantumCircuitOptimizer\n",
    "from qulacs.state import inner_product\n",
    "from qulacs.gate import Identity, X,Y,Z\n",
    "from qulacs.gate import H,S,Sdag,T,Tdag,sqrtX,sqrtXdag,sqrtY,sqrtYdag\n",
    "from qulacs.gate import RX,RY,RZ,CNOT, CZ, SWAP\n",
    "from qulacs.gate import to_matrix_gate,RandomUnitary,DenseMatrix,merge\n",
    "\n"
   ]
  },
  {
   "cell_type": "code",
   "execution_count": 5,
   "metadata": {},
   "outputs": [],
   "source": [
    "import circuit_shots as cs"
   ]
  },
  {
   "cell_type": "code",
   "execution_count": 6,
   "metadata": {},
   "outputs": [],
   "source": [
    "import generator as gen"
   ]
  },
  {
   "cell_type": "markdown",
   "metadata": {},
   "source": [
    "# trotter_Ising_circuit_drawer(t,δ,λ,nqubits,circuit)"
   ]
  },
  {
   "cell_type": "code",
   "execution_count": 6,
   "metadata": {},
   "outputs": [
    {
     "data": {
      "image/png": "[encoded data removed]",
      "text/plain": [
       "<Figure size 194.4x367.2 with 1 Axes>"
      ]
     },
     "metadata": {},
     "output_type": "display_data"
    },
    {
     "data": {
      "image/png": "[encoded data removed]",
      "text/plain": [
       "<Figure size 259.2x367.2 with 1 Axes>"
      ]
     },
     "metadata": {},
     "output_type": "display_data"
    }
   ],
   "source": [
    "nqubits = 4\n",
    "circuit_practice_1 = QuantumCircuit(nqubits)\n",
    "circuit_practice_1.add_H_gate(nqubits-1)\n",
    "target_list = [i for i in range(nqubits-1)]\n",
    "random_unitary_gate = RandomUnitary(target_list)\n",
    "circuit_practice_1.add_gate(random_unitary_gate)\n",
    "circuit_drawer(circuit_practice_1,\"mpl\")\n",
    "\n",
    "t = 1.0\n",
    "δ = 0.1\n",
    "λ = 1.0\n",
    "cs.trotter_Ising_circuit_drawer(t,δ,λ,nqubits,circuit_practice_1)\n",
    "circuit_drawer(circuit_practice_1,\"mpl\")"
   ]
  },
  {
   "cell_type": "markdown",
   "metadata": {},
   "source": [
    "# observable_circuit_drawer(δ,λ,nqubits,circuit,sampled_Obs)"
   ]
  },
  {
   "cell_type": "code",
   "execution_count": 16,
   "metadata": {},
   "outputs": [
    {
     "data": {
      "image/png": "[encoded data removed]",
      "text/plain": [
       "<Figure size 259.2x367.2 with 1 Axes>"
      ]
     },
     "metadata": {},
     "output_type": "display_data"
    },
    {
     "name": "stdout",
     "output_type": "stream",
     "text": [
      "[8, 8, 8, 8, 8, 8, 8, 8, 8, 8]\n",
      "0b1000\n"
     ]
    },
    {
     "data": {
      "image/png": "[encoded data removed]",
      "text/plain": [
       "<Figure size 259.2x367.2 with 1 Axes>"
      ]
     },
     "metadata": {},
     "output_type": "display_data"
    },
    {
     "name": "stdout",
     "output_type": "stream",
     "text": [
      "[9, 9, 9, 9, 9, 9, 9, 9, 9, 9]\n",
      "0b1001\n"
     ]
    },
    {
     "data": {
      "image/png": "[encoded data removed]",
      "text/plain": [
       "<Figure size 259.2x367.2 with 1 Axes>"
      ]
     },
     "metadata": {},
     "output_type": "display_data"
    },
    {
     "name": "stdout",
     "output_type": "stream",
     "text": [
      "[11, 11, 11, 11, 11, 11, 11, 11, 11, 11]\n",
      "0b1011\n"
     ]
    },
    {
     "data": {
      "image/png": "[encoded data removed]",
      "text/plain": [
       "<Figure size 259.2x367.2 with 1 Axes>"
      ]
     },
     "metadata": {},
     "output_type": "display_data"
    },
    {
     "name": "stdout",
     "output_type": "stream",
     "text": [
      "[3, 3, 3, 3, 3, 3, 3, 3, 3, 3]\n",
      "0b11\n"
     ]
    },
    {
     "data": {
      "image/png": "[encoded data removed]",
      "text/plain": [
       "<Figure size 259.2x367.2 with 1 Axes>"
      ]
     },
     "metadata": {},
     "output_type": "display_data"
    },
    {
     "name": "stdout",
     "output_type": "stream",
     "text": [
      "[12, 12, 12, 12, 12, 12, 12, 12, 12, 12]\n",
      "0b1100\n"
     ]
    }
   ],
   "source": [
    "\"\"\"\n",
    "    Check if the function \"observable_circuit_drawer\" is working correctly.\n",
    "\"\"\"\n",
    "δ = 0.1\n",
    "λ = 1.0\n",
    "nqubits = 4\n",
    "circuit = QuantumCircuit(nqubits)\n",
    "circuit.add_X_gate(nqubits-1)\n",
    "sampled_Obs = [3, 0, -1] # [gate,index,coefficient] => Z_0Z_1\n",
    "cs.observable_circuit_drawer(δ,λ,nqubits,circuit,sampled_Obs)\n",
    "circuit_drawer(circuit,\"mpl\")\n",
    "\n",
    "state = QuantumState(nqubits)\n",
    "state.set_zero_state()\n",
    "circuit.update_quantum_state(state)\n",
    "res_sampling = state.sampling(10)\n",
    "print(res_sampling)\n",
    "print(bin(res_sampling[0]))\n",
    "\n",
    "\n",
    "\n",
    "δ = 0.1\n",
    "λ = 1.0\n",
    "nqubits = 4\n",
    "circuit = QuantumCircuit(nqubits)\n",
    "circuit.add_X_gate(nqubits-1)\n",
    "circuit.add_X_gate(0)\n",
    "sampled_Obs = [3, 0, -1] # [gate,index,coefficient] => Z_0Z_1\n",
    "cs.observable_circuit_drawer(δ,λ,nqubits,circuit,sampled_Obs)\n",
    "circuit_drawer(circuit,\"mpl\")\n",
    "\n",
    "state = QuantumState(nqubits)\n",
    "state.set_zero_state()\n",
    "circuit.update_quantum_state(state)\n",
    "res_sampling = state.sampling(10)\n",
    "print(res_sampling)\n",
    "print(bin(res_sampling[0]))\n",
    "\n",
    "\n",
    "\n",
    "δ = 0.1\n",
    "λ = 1.0\n",
    "nqubits = 4\n",
    "circuit = QuantumCircuit(nqubits)\n",
    "circuit.add_X_gate(nqubits-1)\n",
    "circuit.add_X_gate(0)\n",
    "circuit.add_X_gate(1)\n",
    "sampled_Obs = [3, 0, -1] # [gate,index,coefficient] => Z_0Z_1\n",
    "cs.observable_circuit_drawer(δ,λ,nqubits,circuit,sampled_Obs)\n",
    "circuit_drawer(circuit,\"mpl\")\n",
    "\n",
    "state = QuantumState(nqubits)\n",
    "state.set_zero_state()\n",
    "circuit.update_quantum_state(state)\n",
    "res_sampling = state.sampling(10)\n",
    "print(res_sampling)\n",
    "print(bin(res_sampling[0]))\n",
    "\n",
    "\n",
    "\n",
    "δ = 0.1\n",
    "λ = 1.0\n",
    "nqubits = 4\n",
    "circuit = QuantumCircuit(nqubits)\n",
    "circuit.add_X_gate(0)\n",
    "circuit.add_X_gate(1)\n",
    "sampled_Obs = [3, 0, -1] # [gate,index,coefficient] => Z_0Z_1\n",
    "cs.observable_circuit_drawer(δ,λ,nqubits,circuit,sampled_Obs)\n",
    "circuit_drawer(circuit,\"mpl\")\n",
    "\n",
    "state = QuantumState(nqubits)\n",
    "state.set_zero_state()\n",
    "circuit.update_quantum_state(state)\n",
    "res_sampling = state.sampling(10)\n",
    "print(res_sampling)\n",
    "print(bin(res_sampling[0]))\n",
    "\n",
    "\n",
    "\n",
    "δ = 0.1\n",
    "λ = 1.0\n",
    "nqubits = 4\n",
    "circuit = QuantumCircuit(nqubits)\n",
    "circuit.add_X_gate(nqubits-1)\n",
    "sampled_Obs = [1, 2, -1] # [gate,index,coefficient] => X_0\n",
    "cs.observable_circuit_drawer(δ,λ,nqubits,circuit,sampled_Obs)\n",
    "circuit_drawer(circuit,\"mpl\")\n",
    "\n",
    "state = QuantumState(nqubits)\n",
    "state.set_zero_state()\n",
    "circuit.update_quantum_state(state)\n",
    "res_sampling = state.sampling(10)\n",
    "print(res_sampling)\n",
    "print(bin(res_sampling[0]))\n"
   ]
  },
  {
   "cell_type": "code",
   "execution_count": 286,
   "metadata": {},
   "outputs": [
    {
     "name": "stdout",
     "output_type": "stream",
     "text": [
      "0b10\n",
      "0b11\n"
     ]
    }
   ],
   "source": [
    "\"\"\"\n",
    "    Check the function of \"merge\".\n",
    "\"\"\"\n",
    "nqubits = 2\n",
    "state = QuantumState(nqubits)\n",
    "state.set_zero_state()\n",
    "a = Identity(0)\n",
    "b = X(1)\n",
    "c = merge(a,b)\n",
    "c.update_quantum_state(state)\n",
    "print(bin(state.sampling(1)[0]))\n",
    "\n",
    "\n",
    "nqubits = 2\n",
    "state = QuantumState(nqubits)\n",
    "state.set_zero_state()\n",
    "a = Identity(0)\n",
    "b = X(1)\n",
    "c = merge(a,b)\n",
    "d = X(0)\n",
    "e = merge(c,d)\n",
    "e.update_quantum_state(state)\n",
    "print(bin(state.sampling(1)[0]))\n"
   ]
  },
  {
   "cell_type": "markdown",
   "metadata": {},
   "source": [
    "# $\\langle \\bar{H}\\rangle$の実装"
   ]
  },
  {
   "cell_type": "code",
   "execution_count": 8,
   "metadata": {},
   "outputs": [
    {
     "data": {
      "image/png": "[encoded data removed]",
      "text/plain": [
       "<Figure size 194.4x453.6 with 1 Axes>"
      ]
     },
     "metadata": {},
     "output_type": "display_data"
    }
   ],
   "source": [
    "# number of qubits without an ancillary qubit.\n",
    "n_qubits = 4\n",
    "# number of all qubits.\n",
    "nqubits = n_qubits + 1 #  nqubits => _ext\n",
    "state_original = QuantumState(nqubits)\n",
    "state_original.set_zero_state()\n",
    "\n",
    "# trotter stride\n",
    "δ = 0.1\n",
    "# parameter\n",
    "λ = 1.2\n",
    "E_0 = 0\n",
    "β=0.01\n",
    "τ=100\n",
    "# number of random sampling (t,t')\n",
    "Ns = 10**4\n",
    "# number of circuit shots\n",
    "Ms = 10**5\n",
    "# range of (t,t')\n",
    "tmax = 0.5\n",
    "tmin = -1*tmax\n",
    "# coefficients\n",
    "coef_1 = -1*(2-λ)\n",
    "# print(coef_1)\n",
    "coef_2 = -1*λ\n",
    "# print(coef_2)\n",
    "\n",
    "# prepare obs_list_total [[3, 1, coef_1], ..., [1, 1, coef_2]] and prob_list_total [coef_1/aO, ..., coef_2/aO]\n",
    "aO = gen.calculate_aO(nqubits, coef_1, coef_2)\n",
    "obs_list_total, prob_list_total = gen.prepare_sample_target(nqubits, coef_1, coef_2, aO)\n",
    "\n",
    "# prepare initial state (U_i tensor H)(|Ψ> tensor |0>)\n",
    "circuit_trotter_Ising_original = QuantumCircuit(nqubits)\n",
    "circuit_trotter_Ising_original.add_H_gate(nqubits-1)\n",
    "target_list = [i for i in range(nqubits-1)] ####### numpyでも良い？\n",
    "random_unitary_gate = RandomUnitary(target_list)\n",
    "circuit_trotter_Ising_original.add_gate(random_unitary_gate)\n",
    "\n",
    "circuit_drawer(circuit_trotter_Ising_original,\"mpl\")\n",
    "\n"
   ]
  },
  {
   "cell_type": "markdown",
   "metadata": {},
   "source": [
    "## X測定"
   ]
  },
  {
   "cell_type": "code",
   "execution_count": 9,
   "metadata": {
    "tags": []
   },
   "outputs": [
    {
     "name": "stdout",
     "output_type": "stream",
     "text": [
      "0.10423430399993135\n",
      "Elapsed Time_i:  0:50:51.220493\n"
     ]
    }
   ],
   "source": [
    "# time measure\n",
    "t_start = dt.datetime.now()\n",
    "\n",
    "res_X_sampling = np.array([])\n",
    "count_Ns = 0\n",
    "for i in range(Ns):\n",
    "    count_Ns += 1\n",
    "    t_1 = gen.sampling(tmin, tmax, β, τ)\n",
    "    t_2 = gen.sampling(tmin, tmax, β, τ)\n",
    "    sampled_Obs_list = gen.select_obs_Ising(nqubits, coef_1, coef_2, aO, obs_list_total, prob_list_total)\n",
    "    #### print(sampled_Obs_list)\n",
    "    # prepare trotter part\n",
    "    circuit_trotter_Ising_original_copy = circuit_trotter_Ising_original.copy()\n",
    "    cs.trotter_Ising_circuit_drawer(t_1, δ, λ, nqubits, circuit_trotter_Ising_original_copy)\n",
    "    circuit_trotter_Ising_original_copy.add_X_gate(nqubits-1)\n",
    "    cs.trotter_Ising_circuit_drawer(t_2, δ, λ, nqubits, circuit_trotter_Ising_original_copy)\n",
    "    circuit_trotter_Ising_original_copy.add_X_gate(nqubits-1)\n",
    "\n",
    "    #### circuit_drawer(circuit_trotter_Ising_original_copy,\"mpl\")\n",
    "\n",
    "    state = state_original.copy()\n",
    "    cs.observable_circuit_drawer(δ, λ, nqubits, circuit_trotter_Ising_original_copy, sampled_Obs_list)\n",
    "    #### circuit_drawer(circuit_trotter_Ising_original_copy,\"mpl\")\n",
    "\n",
    "    # change basis to measure\n",
    "    circuit_trotter_Ising_original_copy.add_H_gate(nqubits-1)\n",
    "\n",
    "    #### circuit_drawer(circuit_trotter_Ising_original_copy,\"mpl\")\n",
    "\n",
    "\n",
    "    circuit_trotter_Ising_original_copy.update_quantum_state(state)\n",
    "    samples = state.sampling(Ms) # [2, 5, 12, 98]\n",
    "    estimated_X = 0\n",
    "    mask = int(\"1\" + \"0\"*(nqubits-1),2)\n",
    "    for s in samples:\n",
    "        bitcount = bin(s & mask).count(\"1\")\n",
    "        estimated_X += np.sign(sampled_Obs_list[2])*np.exp(E_0*(t_1-t_2)) * (-1)**bitcount /Ms\n",
    "\n",
    "    circuit_trotter_Ising_original_copy.add_H_gate(nqubits-1)\n",
    "    res_X_sampling = np.append(res_X_sampling, estimated_X)\n",
    "\n",
    "    # counter\n",
    "    ## print(\"count_Ns = \", count_Ns ,f' out of {Ns}.')\n",
    "    # time measure\n",
    "    ## t_end_i = dt.datetime.now()\n",
    "    ## print('Elapsed Time_i: ', t_end_i - t_start)\n",
    "\n",
    "print(np.sum(res_X_sampling)*aO/Ns)\n",
    "\n",
    "t_end = dt.datetime.now()\n",
    "print('Elapsed Time_i: ', t_end - t_start)"
   ]
  },
  {
   "cell_type": "markdown",
   "metadata": {},
   "source": [
    "## Y測定"
   ]
  },
  {
   "cell_type": "code",
   "execution_count": 10,
   "metadata": {
    "tags": []
   },
   "outputs": [
    {
     "name": "stdout",
     "output_type": "stream",
     "text": [
      "1.5680000000034083e-06\n",
      "Elapsed Time_i:  0:51:17.149246\n"
     ]
    }
   ],
   "source": [
    "# time measure\n",
    "t_start = dt.datetime.now()\n",
    "\n",
    "res_Y_sampling = np.array([])\n",
    "count_Ns = 0\n",
    "for i in range(Ns):\n",
    "    count_Ns += 1\n",
    "    t_1 = gen.sampling(tmin, tmax, β, τ)\n",
    "    t_2 = gen.sampling(tmin, tmax, β, τ)\n",
    "    sampled_Obs_list = gen.select_obs_Ising(nqubits, coef_1, coef_2, aO, obs_list_total, prob_list_total)\n",
    "\n",
    "    # prepare trotter part\n",
    "    circuit_trotter_Ising_original_copy = circuit_trotter_Ising_original.copy()\n",
    "    cs.trotter_Ising_circuit_drawer(t_1, δ, λ, nqubits, circuit_trotter_Ising_original_copy)\n",
    "    circuit_trotter_Ising_original_copy.add_X_gate(nqubits-1)\n",
    "    cs.trotter_Ising_circuit_drawer(t_2, δ, λ, nqubits, circuit_trotter_Ising_original_copy)\n",
    "    circuit_trotter_Ising_original_copy.add_X_gate(nqubits-1)\n",
    "\n",
    "    #### circuit_drawer(circuit_trotter_Ising_original_copy,\"mpl\")\n",
    "\n",
    "    state = state_original.copy()\n",
    "    cs.observable_circuit_drawer(δ, λ, nqubits, circuit_trotter_Ising_original_copy, sampled_Obs_list)\n",
    "    #### circuit_drawer(circuit_trotter_Ising,\"mpl\")\n",
    "\n",
    "    # change basis to measure\n",
    "    circuit_trotter_Ising_original_copy.add_Sdag_gate(nqubits-1)\n",
    "    circuit_trotter_Ising_original_copy.add_H_gate(nqubits-1)\n",
    "\n",
    "    #### circuit_drawer(circuit_trotter_Ising,\"mpl\")\n",
    "\n",
    "\n",
    "    circuit_trotter_Ising_original_copy.update_quantum_state(state)\n",
    "    samples = state.sampling(Ms) # [2, 5, 12, 98]\n",
    "    estimated_Y = 0\n",
    "    mask = int(\"1\" + \"0\"*(nqubits-1),2)\n",
    "    for s in samples:\n",
    "        bitcount = bin(s & mask).count(\"1\")\n",
    "        estimated_Y += np.sign(sampled_Obs_list[2])*np.exp(E_0*(t_1-t_2)) * (-1)**bitcount /Ms\n",
    "\n",
    "    circuit_trotter_Ising_original_copy.add_H_gate(nqubits-1)\n",
    "    circuit_trotter_Ising_original_copy.add_S_gate(nqubits-1)\n",
    "    res_Y_sampling = np.append(res_Y_sampling, estimated_Y)\n",
    "\n",
    "    # counter\n",
    "    ## print(\"count_Ns = \",count_Ns,f' out of {Ns}.')\n",
    "    # time measure\n",
    "    ## t_end_i = dt.datetime.now()\n",
    "    ## print('Elapsed Time_i: ', t_end_i - t_start)\n",
    "\n",
    "print(np.sum(res_Y_sampling)*aO/Ns)\n",
    "\n",
    "t_end = dt.datetime.now()\n",
    "print('Elapsed Time_i: ', t_end - t_start)"
   ]
  },
  {
   "cell_type": "markdown",
   "metadata": {},
   "source": [
    "# $\\langle I\\rangle$の実装"
   ]
  },
  {
   "cell_type": "code",
   "execution_count": 11,
   "metadata": {},
   "outputs": [],
   "source": [
    "# number of qubits without an ancillary qubit.\n",
    "n_qubits = 4\n",
    "# number of all qubits.\n",
    "nqubits = n_qubits + 1 #  nqubits => _ext\n",
    "state_original = QuantumState(nqubits)\n",
    "state_original.set_zero_state()\n",
    "\n",
    "# trotter stride\n",
    "δ = 0.1\n",
    "# parameter\n",
    "λ = 1.2\n",
    "E_0 = 0\n",
    "β=0.01\n",
    "τ=100\n",
    "# number of random sampling (t,t')\n",
    "Ns = 10**3\n",
    "# number of circuit shots\n",
    "Ms = 10**5\n",
    "# range of (t,t')\n",
    "tmax = 0.5\n",
    "tmin = -1*tmax\n",
    "# coefficients\n",
    "coef_1 = -1*(2-λ)\n",
    "# print(coef_1)\n",
    "coef_2 = -1*λ\n",
    "# print(coef_2)\n",
    "\n",
    "# prepare obs_list_total [[3, 1, coef_1], ..., [1, 1, coef_2]] and prob_list_total [coef_1/aO, ..., coef_2/aO]\n",
    "aO = gen.calculate_aO(nqubits, coef_1, coef_2)\n",
    "obs_list_total, prob_list_total = gen.prepare_sample_target(nqubits, coef_1, coef_2, aO)\n",
    "\n",
    "# prepare initial state (U_i tensor H)(|Ψ> tensor |0>)\n",
    "circuit_trotter_Ising_original = QuantumCircuit(nqubits)\n",
    "circuit_trotter_Ising_original.add_H_gate(nqubits-1)\n",
    "target_list = [i for i in range(nqubits-1)] ####### numpyでも良い？\n",
    "random_unitary_gate = RandomUnitary(target_list)\n",
    "circuit_trotter_Ising_original.add_gate(random_unitary_gate)"
   ]
  },
  {
   "cell_type": "markdown",
   "metadata": {},
   "source": [
    "## X測定"
   ]
  },
  {
   "cell_type": "code",
   "execution_count": 12,
   "metadata": {
    "tags": []
   },
   "outputs": [
    {
     "name": "stdout",
     "output_type": "stream",
     "text": [
      "0.9999999999980833\n",
      "Elapsed Time_i:  0:03:04.089246\n"
     ]
    }
   ],
   "source": [
    "# time measure\n",
    "t_start = dt.datetime.now()\n",
    "\n",
    "res_X_sampling = np.array([])\n",
    "count_Ns = 0\n",
    "for i in range(Ns):\n",
    "    count_Ns += 1\n",
    "    t_1 = gen.sampling(tmin, tmax, β, τ)\n",
    "    t_2 = gen.sampling(tmin, tmax, β, τ)\n",
    "    \n",
    "    #### print(sampled_Obs_list)\n",
    "    \n",
    "    # prepare trotter part\n",
    "    circuit_trotter_Ising_original_copy = circuit_trotter_Ising_original.copy()\n",
    "    cs.trotter_Ising_circuit_drawer(t_1, δ, λ, nqubits, circuit_trotter_Ising_original_copy)\n",
    "    circuit_trotter_Ising_original_copy.add_X_gate(nqubits-1)\n",
    "    cs.trotter_Ising_circuit_drawer(t_2, δ, λ, nqubits, circuit_trotter_Ising_original_copy)\n",
    "    circuit_trotter_Ising_original_copy.add_X_gate(nqubits-1)\n",
    "\n",
    "    #### circuit_drawer(circuit_trotter_Ising_original_copy,\"mpl\")\n",
    "\n",
    "    state = state_original.copy()\n",
    "    \n",
    "    #### circuit_drawer(circuit_trotter_Ising_original_copy,\"mpl\")\n",
    "\n",
    "    # change basis to measure\n",
    "    circuit_trotter_Ising_original_copy.add_H_gate(nqubits-1)\n",
    "\n",
    "    #### circuit_drawer(circuit_trotter_Ising_original_copy,\"mpl\")\n",
    "\n",
    "    circuit_trotter_Ising_original_copy.update_quantum_state(state)\n",
    "    samples = state.sampling(Ms) # [2, 5, 12, 98]\n",
    "    estimated_X = 0\n",
    "    mask = int(\"1\" + \"0\"*(nqubits-1),2)\n",
    "    for s in samples:\n",
    "        bitcount = bin(s & mask).count(\"1\")\n",
    "        estimated_X += np.exp(E_0*(t_1-t_2)) * (-1)**bitcount /Ms\n",
    "\n",
    "    circuit_trotter_Ising_original_copy.add_H_gate(nqubits-1)\n",
    "    res_X_sampling = np.append(res_X_sampling, estimated_X)\n",
    "\n",
    "    # counter\n",
    "    ## print(\"count_Ns = \", count_Ns ,f' out of {Ns}.')\n",
    "    # time measure\n",
    "    ## t_end_i = dt.datetime.now()\n",
    "    ## print('Elapsed Time_i: ', t_end_i - t_start)\n",
    "\n",
    "print(np.sum(res_X_sampling)/Ns)\n",
    "\n",
    "t_end = dt.datetime.now()\n",
    "print('Elapsed Time_i: ', t_end - t_start)"
   ]
  },
  {
   "cell_type": "markdown",
   "metadata": {},
   "source": [
    "## Y測定"
   ]
  },
  {
   "cell_type": "code",
   "execution_count": 13,
   "metadata": {
    "tags": []
   },
   "outputs": [
    {
     "name": "stdout",
     "output_type": "stream",
     "text": [
      "-3.684000000000129e-05\n",
      "Elapsed Time_i:  0:03:12.185928\n"
     ]
    }
   ],
   "source": [
    "# time measure\n",
    "t_start = dt.datetime.now()\n",
    "\n",
    "res_Y_sampling = np.array([])\n",
    "count_Ns = 0\n",
    "for i in range(Ns):\n",
    "    count_Ns += 1\n",
    "    t_1 = gen.sampling(tmin, tmax, β, τ)\n",
    "    t_2 = gen.sampling(tmin, tmax, β, τ)\n",
    "\n",
    "    # prepare trotter part\n",
    "    circuit_trotter_Ising_original_copy = circuit_trotter_Ising_original.copy()\n",
    "    cs.trotter_Ising_circuit_drawer(t_1, δ, λ, nqubits, circuit_trotter_Ising_original_copy)\n",
    "    circuit_trotter_Ising_original_copy.add_X_gate(nqubits-1)\n",
    "    cs.trotter_Ising_circuit_drawer(t_2, δ, λ, nqubits, circuit_trotter_Ising_original_copy)\n",
    "    circuit_trotter_Ising_original_copy.add_X_gate(nqubits-1)\n",
    "\n",
    "    #### circuit_drawer(circuit_trotter_Ising_original_copy,\"mpl\")\n",
    "\n",
    "    state = state_original.copy()\n",
    "    \n",
    "    #### circuit_drawer(circuit_trotter_Ising_original_copy,\"mpl\")\n",
    "\n",
    "    # change basis to measure\n",
    "    circuit_trotter_Ising_original_copy.add_Sdag_gate(nqubits-1)\n",
    "    circuit_trotter_Ising_original_copy.add_H_gate(nqubits-1)\n",
    "\n",
    "    #### circuit_drawer(circuit_trotter_Ising_original_copy,\"mpl\")\n",
    "\n",
    "\n",
    "    circuit_trotter_Ising_original_copy.update_quantum_state(state)\n",
    "    samples = state.sampling(Ms) # [2, 5, 12, 98]\n",
    "    estimated_Y = 0\n",
    "    mask = int(\"1\" + \"0\"*(nqubits-1),2)\n",
    "    for s in samples:\n",
    "        bitcount = bin(s & mask).count(\"1\")\n",
    "        estimated_Y += np.exp(E_0*(t_1-t_2)) * (-1)**bitcount /Ms\n",
    "\n",
    "    circuit_trotter_Ising_original_copy.add_H_gate(nqubits-1)\n",
    "    circuit_trotter_Ising_original_copy.add_S_gate(nqubits-1)\n",
    "    res_Y_sampling = np.append(res_Y_sampling, estimated_Y)\n",
    "\n",
    "    # counter\n",
    "    ## print(\"count_Ns = \",count_Ns,f' out of {Ns}.')\n",
    "    # time measure\n",
    "    ## t_end_i = dt.datetime.now()\n",
    "    ## print('Elapsed Time_i: ', t_end_i - t_start)\n",
    "\n",
    "print(np.sum(res_Y_sampling)/Ns)\n",
    "\n",
    "t_end = dt.datetime.now()\n",
    "print('Elapsed Time_i: ', t_end - t_start)"
   ]
  }
 ],
 "metadata": {
  "instance_type": "ml.t3.medium",
  "kernelspec": {
   "display_name": "Python 3 (ipykernel)",
   "language": "python",
   "name": "python3"
  },
  "language_info": {
   "codemirror_mode": {
    "name": "ipython",
    "version": 3
   },
   "file_extension": ".py",
   "mimetype": "text/x-python",
   "name": "python",
   "nbconvert_exporter": "python",
   "pygments_lexer": "ipython3",
   "version": "3.8.10"
  }
 },
 "nbformat": 4,
 "nbformat_minor": 4
}
