{
 "cells": [
  {
   "cell_type": "code",
   "execution_count": 1,
   "metadata": {},
   "outputs": [],
   "source": [
    "%load_ext autoreload"
   ]
  },
  {
   "cell_type": "code",
   "execution_count": 2,
   "metadata": {},
   "outputs": [],
   "source": [
    "%autoreload 2"
   ]
  },
  {
   "cell_type": "code",
   "execution_count": 3,
   "metadata": {},
   "outputs": [
    {
     "name": "stdout",
     "output_type": "stream",
     "text": [
      "Requirement already satisfied: qulacs in /home/sakaue/.local/lib/python3.8/site-packages (0.5.2)\n",
      "Requirement already satisfied: numpy in /home/sakaue/.local/lib/python3.8/site-packages (from qulacs) (1.23.4)\n",
      "Requirement already satisfied: scipy in /home/sakaue/.local/lib/python3.8/site-packages (from qulacs) (1.9.3)\n",
      "Requirement already satisfied: qulacsvis in /home/sakaue/.local/lib/python3.8/site-packages (0.3.2)\n",
      "Requirement already satisfied: Pillow<10.0.0,>=9.1.0 in /home/sakaue/.local/lib/python3.8/site-packages (from qulacsvis) (9.2.0)\n",
      "Requirement already satisfied: matplotlib<4.0.0,>=3.4.3 in /home/sakaue/.local/lib/python3.8/site-packages (from qulacsvis) (3.6.1)\n",
      "Requirement already satisfied: Qulacs>=0.5.0 in /home/sakaue/.local/lib/python3.8/site-packages (from qulacsvis) (0.5.2)\n",
      "Requirement already satisfied: temp<2021.0.0,>=2020.7.2 in /home/sakaue/.local/lib/python3.8/site-packages (from qulacsvis) (2020.7.2)\n",
      "Requirement already satisfied: dataclasses-json<0.6.0,>=0.5.7 in /home/sakaue/.local/lib/python3.8/site-packages (from qulacsvis) (0.5.7)\n",
      "Requirement already satisfied: numpy<2.0.0,>=1.22.0 in /home/sakaue/.local/lib/python3.8/site-packages (from qulacsvis) (1.23.4)\n",
      "Requirement already satisfied: scipy<2.0.0,>=1.9.1 in /home/sakaue/.local/lib/python3.8/site-packages (from qulacsvis) (1.9.3)\n",
      "Requirement already satisfied: kiwisolver>=1.0.1 in /home/sakaue/.local/lib/python3.8/site-packages (from matplotlib<4.0.0,>=3.4.3->qulacsvis) (1.4.4)\n",
      "Requirement already satisfied: pyparsing>=2.2.1 in /usr/lib/python3/dist-packages (from matplotlib<4.0.0,>=3.4.3->qulacsvis) (2.4.6)\n",
      "Requirement already satisfied: fonttools>=4.22.0 in /home/sakaue/.local/lib/python3.8/site-packages (from matplotlib<4.0.0,>=3.4.3->qulacsvis) (4.38.0)\n",
      "Requirement already satisfied: cycler>=0.10 in /home/sakaue/.local/lib/python3.8/site-packages (from matplotlib<4.0.0,>=3.4.3->qulacsvis) (0.11.0)\n",
      "Requirement already satisfied: packaging>=20.0 in /usr/lib/python3/dist-packages (from matplotlib<4.0.0,>=3.4.3->qulacsvis) (20.3)\n",
      "Requirement already satisfied: contourpy>=1.0.1 in /home/sakaue/.local/lib/python3.8/site-packages (from matplotlib<4.0.0,>=3.4.3->qulacsvis) (1.0.5)\n",
      "Requirement already satisfied: python-dateutil>=2.7 in /home/sakaue/.local/lib/python3.8/site-packages (from matplotlib<4.0.0,>=3.4.3->qulacsvis) (2.8.2)\n",
      "Requirement already satisfied: marshmallow<4.0.0,>=3.3.0 in /home/sakaue/.local/lib/python3.8/site-packages (from dataclasses-json<0.6.0,>=0.5.7->qulacsvis) (3.18.0)\n",
      "Requirement already satisfied: typing-inspect>=0.4.0 in /home/sakaue/.local/lib/python3.8/site-packages (from dataclasses-json<0.6.0,>=0.5.7->qulacsvis) (0.8.0)\n",
      "Requirement already satisfied: marshmallow-enum<2.0.0,>=1.5.1 in /home/sakaue/.local/lib/python3.8/site-packages (from dataclasses-json<0.6.0,>=0.5.7->qulacsvis) (1.5.1)\n",
      "Requirement already satisfied: six>=1.5 in /usr/lib/python3/dist-packages (from python-dateutil>=2.7->matplotlib<4.0.0,>=3.4.3->qulacsvis) (1.14.0)\n",
      "Requirement already satisfied: typing-extensions>=3.7.4 in /home/sakaue/.local/lib/python3.8/site-packages (from typing-inspect>=0.4.0->dataclasses-json<0.6.0,>=0.5.7->qulacsvis) (4.4.0)\n",
      "Requirement already satisfied: mypy-extensions>=0.3.0 in /home/sakaue/.local/lib/python3.8/site-packages (from typing-inspect>=0.4.0->dataclasses-json<0.6.0,>=0.5.7->qulacsvis) (0.4.3)\n",
      "Requirement already satisfied: matplotlib in /home/sakaue/.local/lib/python3.8/site-packages (3.6.1)\n",
      "Requirement already satisfied: cycler>=0.10 in /home/sakaue/.local/lib/python3.8/site-packages (from matplotlib) (0.11.0)\n",
      "Requirement already satisfied: packaging>=20.0 in /usr/lib/python3/dist-packages (from matplotlib) (20.3)\n",
      "Requirement already satisfied: pillow>=6.2.0 in /home/sakaue/.local/lib/python3.8/site-packages (from matplotlib) (9.2.0)\n",
      "Requirement already satisfied: fonttools>=4.22.0 in /home/sakaue/.local/lib/python3.8/site-packages (from matplotlib) (4.38.0)\n",
      "Requirement already satisfied: kiwisolver>=1.0.1 in /home/sakaue/.local/lib/python3.8/site-packages (from matplotlib) (1.4.4)\n",
      "Requirement already satisfied: pyparsing>=2.2.1 in /usr/lib/python3/dist-packages (from matplotlib) (2.4.6)\n",
      "Requirement already satisfied: numpy>=1.19 in /home/sakaue/.local/lib/python3.8/site-packages (from matplotlib) (1.23.4)\n",
      "Requirement already satisfied: python-dateutil>=2.7 in /home/sakaue/.local/lib/python3.8/site-packages (from matplotlib) (2.8.2)\n",
      "Requirement already satisfied: contourpy>=1.0.1 in /home/sakaue/.local/lib/python3.8/site-packages (from matplotlib) (1.0.5)\n",
      "Requirement already satisfied: six>=1.5 in /usr/lib/python3/dist-packages (from python-dateutil>=2.7->matplotlib) (1.14.0)\n",
      "Requirement already satisfied: numpy in /home/sakaue/.local/lib/python3.8/site-packages (1.23.4)\n",
      "Requirement already satisfied: scipy in /home/sakaue/.local/lib/python3.8/site-packages (1.9.3)\n",
      "Requirement already satisfied: numpy<1.26.0,>=1.18.5 in /home/sakaue/.local/lib/python3.8/site-packages (from scipy) (1.23.4)\n"
     ]
    }
   ],
   "source": [
    "!pip install qulacs\n",
    "!pip install qulacsvis\n",
    "!pip install matplotlib\n",
    "!pip install numpy\n",
    "!pip install scipy"
   ]
  },
  {
   "cell_type": "code",
   "execution_count": 4,
   "metadata": {},
   "outputs": [],
   "source": [
    "import matplotlib.pyplot as plt\n",
    "import numpy as np\n",
    "import time\n",
    "import datetime as dt\n",
    "import random\n",
    "import math\n",
    "import scipy.optimize\n",
    "from scipy import stats\n",
    "from qulacs import QuantumState, Observable, QuantumCircuit\n",
    "from qulacsvis import circuit_drawer\n",
    "from qulacs.circuit import QuantumCircuitOptimizer\n",
    "from qulacs.state import inner_product\n",
    "from qulacs.gate import Identity, X,Y,Z\n",
    "from qulacs.gate import H,S,Sdag,T,Tdag,sqrtX,sqrtXdag,sqrtY,sqrtYdag\n",
    "from qulacs.gate import RX,RY,RZ,CNOT, CZ, SWAP\n",
    "from qulacs.gate import to_matrix_gate,RandomUnitary,DenseMatrix,merge"
   ]
  },
  {
   "cell_type": "markdown",
   "metadata": {},
   "source": [
    "# $t$を確率密度関数$g\\left(t\\right)=\\frac{1}{\\pi}\\frac{\\beta}{\\beta^2+t^2}\\exp(-\\frac{\\beta^2+t^2}{2\\tau^2})$に従って棄却サンプリングする"
   ]
  },
  {
   "cell_type": "code",
   "execution_count": 5,
   "metadata": {},
   "outputs": [],
   "source": [
    "import generator as gen"
   ]
  },
  {
   "cell_type": "markdown",
   "metadata": {},
   "source": [
    "# g(t, β, τ)"
   ]
  },
  {
   "cell_type": "code",
   "execution_count": 113,
   "metadata": {},
   "outputs": [
    {
     "data": {
      "text/plain": [
       "5.920684802611233e-45"
      ]
     },
     "execution_count": 113,
     "metadata": {},
     "output_type": "execute_result"
    }
   ],
   "source": [
    "gen.g(1,1,10)"
   ]
  },
  {
   "cell_type": "code",
   "execution_count": 114,
   "metadata": {},
   "outputs": [
    {
     "data": {
      "text/plain": [
       "6.139401445823983e-23"
      ]
     },
     "execution_count": 114,
     "metadata": {},
     "output_type": "execute_result"
    }
   ],
   "source": [
    "gen.g(0, 1, 10)"
   ]
  },
  {
   "cell_type": "markdown",
   "metadata": {},
   "source": [
    "目標分布：$P\\left(t\\right)=g(t)=\\frac{1}{\\pi}\\frac{\\beta}{\\beta^2+t^2}\\exp(-\\frac{\\beta^2+t^2}{2\\tau^2})$"
   ]
  },
  {
   "cell_type": "markdown",
   "metadata": {},
   "source": [
    "提案分布 : $Q(t)=g(0)$"
   ]
  },
  {
   "cell_type": "code",
   "execution_count": 55,
   "metadata": {},
   "outputs": [
    {
     "data": {
      "image/png": "[encoded data removed]",
      "text/plain": [
       "<Figure size 640x480 with 1 Axes>"
      ]
     },
     "metadata": {},
     "output_type": "display_data"
    }
   ],
   "source": [
    "β=0.1\n",
    "τ=10\n",
    "tmax = 0.5\n",
    "tmin = -1*tmax\n",
    "x = np.linspace(tmin,tmax,10**3)\n",
    "P = gen.g(x,β,τ)\n",
    "Q = gen.g(0,β,τ)\n",
    "plt.plot(x,P,label=\"$P(t)$\")\n",
    "plt.plot([tmin, tmax],[Q, Q], \"red\", linestyle='dashed',label=f'$Q(t)$={Q}')\n",
    "plt.xlabel(\"t\")\n",
    "plt.ylabel('PDF')\n",
    "plt.legend()\n",
    "plt.show()\n"
   ]
  },
  {
   "cell_type": "markdown",
   "metadata": {},
   "source": [
    "# sampling(tmin=-0.5, tmax=0.5, β=1, τ=10)"
   ]
  },
  {
   "cell_type": "markdown",
   "metadata": {},
   "source": [
    "# integral_C(f, β, τ, flag=0)"
   ]
  },
  {
   "cell_type": "code",
   "execution_count": 7,
   "metadata": {},
   "outputs": [],
   "source": [
    "β=0.1\n",
    "τ=10\n",
    "tmax = 0.5\n",
    "tmin = -1*tmax\n",
    "C = gen.integral_C(gen.g, β, τ)\n",
    "x = np.linspace(tmin,tmax,10**4)\n",
    "y = gen.g(x,β,τ)/C"
   ]
  },
  {
   "cell_type": "code",
   "execution_count": 8,
   "metadata": {},
   "outputs": [
    {
     "name": "stdout",
     "output_type": "stream",
     "text": [
      "Elapsed Time:  0:00:04.364369\n"
     ]
    }
   ],
   "source": [
    "# get sample\n",
    "N = 10**5\n",
    "# time measure\n",
    "t_mes_0 = dt.datetime.now()\n",
    "# sampling using rejection sampling\n",
    "samples = np.array([gen.sampling(tmin,tmax,β,τ) for i in range(N)])\n",
    "# time measure\n",
    "t_mes_1 = dt.datetime.now()\n",
    "print('Elapsed Time: ', t_mes_1- t_mes_0)\n"
   ]
  },
  {
   "cell_type": "code",
   "execution_count": 9,
   "metadata": {},
   "outputs": [
    {
     "data": {
      "image/png": "[encoded data removed]",
      "text/plain": [
       "<Figure size 640x480 with 1 Axes>"
      ]
     },
     "metadata": {},
     "output_type": "display_data"
    }
   ],
   "source": [
    "# plot\n",
    "%matplotlib inline\n",
    "plt.hist(samples, bins = 10**3, density = True, alpha = 0.5, label = 'Sample result')\n",
    "plt.plot(x,y, label = 'Target Distribution : $g(t)$')\n",
    "plt.xlabel(\"t\")\n",
    "plt.ylabel('PDF')\n",
    "plt.legend()\n",
    "plt.show()\n"
   ]
  },
  {
   "cell_type": "code",
   "execution_count": 10,
   "metadata": {},
   "outputs": [
    {
     "name": "stdout",
     "output_type": "stream",
     "text": [
      "Elapsed Time:  0:07:15.638373\n"
     ]
    }
   ],
   "source": [
    "# get sample\n",
    "N = 10**7\n",
    "# time measure\n",
    "t_mes_0 = dt.datetime.now()\n",
    "# sampling using rejection sampling\n",
    "samples = np.array([gen.sampling(tmin,tmax,β,τ) for i in range(N)])\n",
    "# time measure\n",
    "t_mes_1 = dt.datetime.now()\n",
    "print('Elapsed Time: ', t_mes_1- t_mes_0)\n"
   ]
  },
  {
   "cell_type": "code",
   "execution_count": 11,
   "metadata": {},
   "outputs": [
    {
     "data": {
      "image/png": "[encoded data removed]",
      "text/plain": [
       "<Figure size 640x480 with 1 Axes>"
      ]
     },
     "metadata": {},
     "output_type": "display_data"
    }
   ],
   "source": [
    "# plot\n",
    "%matplotlib inline\n",
    "plt.hist(samples, bins = 10**3, density = True, alpha = 0.5, label = 'Sample result')\n",
    "plt.plot(x,y, label = 'Target Distribution : $g(t)$')\n",
    "plt.xlabel(\"t\")\n",
    "plt.ylabel('PDF')\n",
    "plt.legend()\n",
    "plt.show()"
   ]
  },
  {
   "cell_type": "markdown",
   "metadata": {},
   "source": [
    "# calculate_aO(nqubits, coef_1, coef_2)"
   ]
  },
  {
   "cell_type": "markdown",
   "metadata": {},
   "source": [
    "# prepare_sample_target(nqubits, coef_1, coef_2, aO)"
   ]
  },
  {
   "cell_type": "markdown",
   "metadata": {},
   "source": [
    "# select_obs_Ising(nqubits, coef_1, coef_2, aO, obs_list_total, prob_list_total)"
   ]
  },
  {
   "cell_type": "code",
   "execution_count": 12,
   "metadata": {},
   "outputs": [],
   "source": [
    "# trotter stride\n",
    "δ = 0.1\n",
    "# parameter\n",
    "λ = 1.5\n",
    "E_0 = 0\n",
    "β=0.01\n",
    "τ=10\n",
    "# number of random sampling (t,t')\n",
    "Ns = 10**1\n",
    "# number of circuit shots\n",
    "Ms = 10**1\n",
    "# range of (t,t')\n",
    "tmax = 0.5\n",
    "tmin = -1*tmax\n",
    "\n",
    "nqubits = 4"
   ]
  },
  {
   "cell_type": "code",
   "execution_count": 13,
   "metadata": {},
   "outputs": [],
   "source": [
    "coef_1 = -1*(2-λ)\n",
    "coef_2 = -1*λ"
   ]
  },
  {
   "cell_type": "code",
   "execution_count": 14,
   "metadata": {},
   "outputs": [
    {
     "data": {
      "text/plain": [
       "6.0"
      ]
     },
     "execution_count": 14,
     "metadata": {},
     "output_type": "execute_result"
    }
   ],
   "source": [
    "aO = gen.calculate_aO(nqubits, coef_1, coef_2)\n",
    "aO"
   ]
  },
  {
   "cell_type": "code",
   "execution_count": 15,
   "metadata": {},
   "outputs": [],
   "source": [
    "obs_list_total, prob_list_total = gen.prepare_sample_target(nqubits, coef_1, coef_2, aO)"
   ]
  },
  {
   "cell_type": "code",
   "execution_count": 16,
   "metadata": {},
   "outputs": [
    {
     "data": {
      "text/plain": [
       "[[3, 0, -0.5],\n",
       " [3, 1, -0.5],\n",
       " [3, 2, -0.5],\n",
       " [1, 0, -1.5],\n",
       " [1, 1, -1.5],\n",
       " [1, 2, -1.5]]"
      ]
     },
     "execution_count": 16,
     "metadata": {},
     "output_type": "execute_result"
    }
   ],
   "source": [
    "obs_list_total"
   ]
  },
  {
   "cell_type": "code",
   "execution_count": 17,
   "metadata": {},
   "outputs": [
    {
     "data": {
      "text/plain": [
       "[1, 2, -1.5]"
      ]
     },
     "execution_count": 17,
     "metadata": {},
     "output_type": "execute_result"
    }
   ],
   "source": [
    "obs_list_total[5]"
   ]
  },
  {
   "cell_type": "code",
   "execution_count": 18,
   "metadata": {},
   "outputs": [
    {
     "data": {
      "text/plain": [
       "[0.08333333333333333,\n",
       " 0.08333333333333333,\n",
       " 0.08333333333333333,\n",
       " 0.25,\n",
       " 0.25,\n",
       " 0.25]"
      ]
     },
     "execution_count": 18,
     "metadata": {},
     "output_type": "execute_result"
    }
   ],
   "source": [
    "prob_list_total"
   ]
  },
  {
   "cell_type": "code",
   "execution_count": 19,
   "metadata": {},
   "outputs": [
    {
     "data": {
      "text/plain": [
       "array([ 1. ,  0. , -1.5])"
      ]
     },
     "execution_count": 19,
     "metadata": {},
     "output_type": "execute_result"
    }
   ],
   "source": [
    "gen.select_obs_Ising(nqubits, coef_1, coef_2, aO, obs_list_total, prob_list_total)"
   ]
  },
  {
   "cell_type": "code",
   "execution_count": 36,
   "metadata": {},
   "outputs": [
    {
     "data": {
      "text/plain": [
       "array([ 3. ,  2. , -0.5])"
      ]
     },
     "execution_count": 36,
     "metadata": {},
     "output_type": "execute_result"
    }
   ],
   "source": [
    "gen.select_obs_Ising(nqubits, coef_1, coef_2, aO, obs_list_total, prob_list_total)"
   ]
  },
  {
   "cell_type": "code",
   "execution_count": null,
   "metadata": {},
   "outputs": [],
   "source": []
  }
 ],
 "metadata": {
  "instance_type": "ml.t3.medium",
  "kernelspec": {
   "display_name": "Python 3 (ipykernel)",
   "language": "python",
   "name": "python3"
  },
  "language_info": {
   "codemirror_mode": {
    "name": "ipython",
    "version": 3
   },
   "file_extension": ".py",
   "mimetype": "text/x-python",
   "name": "python",
   "nbconvert_exporter": "python",
   "pygments_lexer": "ipython3",
   "version": "3.8.10"
  },
  "toc-autonumbering": true,
  "toc-showcode": false,
  "toc-showmarkdowntxt": false,
  "toc-showtags": false
 },
 "nbformat": 4,
 "nbformat_minor": 4
}
