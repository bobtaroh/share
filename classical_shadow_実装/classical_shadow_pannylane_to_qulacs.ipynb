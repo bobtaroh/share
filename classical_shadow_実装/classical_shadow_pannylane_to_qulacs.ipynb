{
 "cells": [
  {
   "cell_type": "code",
   "execution_count": 6,
   "metadata": {},
   "outputs": [],
   "source": [
    "import matplotlib.pyplot as plt\n",
    "import numpy as np\n",
    "import time\n",
    "import random\n",
    "import math\n",
    "from qulacs import QuantumState\n",
    "from qulacs import QuantumCircuit\n",
    "from qulacs.gate import DenseMatrix, X, Y, Z, Sdag, H, CNOT, merge\n",
    "from qulacs.circuit import QuantumCircuitOptimizer\n",
    "from qulacsvis import circuit_drawer\n",
    "from qulacs import Observable\n",
    "from utility import *"
   ]
  },
  {
   "cell_type": "code",
   "execution_count": 7,
   "metadata": {},
   "outputs": [],
   "source": [
    "def calculate_classical_shadow(circuit_template, shadow_size, num_qubits):\n",
    "    \"\"\"\n",
    "    Given a circuit, creates a collection of snapshots consisting of a bit string\n",
    "    and the index of a unitary operation.\n",
    "\n",
    "    Args:\n",
    "        circuit_template (function): A Pennylane QNode.\n",
    "        params (array): Circuit parameters.\n",
    "        shadow_size (int): The number of snapshots in the shadow.\n",
    "        num_qubits (int): The number of qubits in the circuit.\n",
    "\n",
    "    Returns:\n",
    "        Tuple of two numpy arrays. The first array contains measurement outcomes (-1, 1)\n",
    "        while the second array contains the index for the sampled Pauli's (0,1,2=X,Y,Z).\n",
    "        Each row of the arrays corresponds to a distinct snapshot or sample while each\n",
    "        column corresponds to a different qubit.\n",
    "    \"\"\"\n",
    "\n",
    "    # applying the single-qubit Clifford circuit is equivalent to measuring a Pauli\n",
    "    unitary_ensemble = [H, Sdag, Identity] # [PauliX, PauliY, PauliZ]\n",
    "\n",
    "    # sample random Pauli measurements uniformly, where 0, 1, 2 = X, Y, Z\n",
    "    unitary_ids = np.random.randint(0, 3, size=(shadow_size, num_qubits)) # [0, 1, 1, 2, 2, 1, ...]\n",
    "    outcomes = np.zeros((shadow_size, num_qubits))\n",
    "\n",
    "    for ns in range(shadow_size):\n",
    "        # for each snapshot, add a random Pauli observable at each location\n",
    "        outcomes[ns, :] = circuit_template(ns, num_qubits, unitary_ids, unitary_ensemble) \n",
    "        \n",
    "    # combiine the computational basis outcomes and the sampled unitaries\n",
    "    return (outcomes, unitary_ids)"
   ]
  },
  {
   "cell_type": "code",
   "execution_count": 8,
   "metadata": {},
   "outputs": [
    {
     "name": "stdout",
     "output_type": "stream",
     "text": [
      "[[ 1.  1.]\n",
      " [-1.  1.]\n",
      " [ 1. -1.]\n",
      " [-1.  1.]\n",
      " [ 1.  1.]\n",
      " [-1.  1.]\n",
      " [ 1.  1.]\n",
      " [-1. -1.]\n",
      " [ 1.  1.]\n",
      " [ 1.  1.]]\n",
      "[[1 0]\n",
      " [1 1]\n",
      " [1 0]\n",
      " [0 1]\n",
      " [0 2]\n",
      " [2 1]\n",
      " [0 0]\n",
      " [0 2]\n",
      " [1 1]\n",
      " [0 0]]\n"
     ]
    }
   ],
   "source": [
    "num_qubits = 2\n",
    "\n",
    "# simple circuit to prepare rho\n",
    "def local_qubit_rotation_circuit(ns, num_qubits, unitary_ids, unitary_ensemble):\n",
    "    seed = 0\n",
    "    shots = 1\n",
    "    state = QuantumState(num_qubits)\n",
    "    state.set_Haar_random_state(seed)\n",
    "    for i in range(num_qubits):\n",
    "        if int(unitary_ids[ns, i]) == 1:\n",
    "            Sdag(i).update_quantum_state(state)\n",
    "            H(i).update_quantum_state(state)\n",
    "        else:\n",
    "            unitary_ensemble[int(unitary_ids[ns, i])](i).update_quantum_state(state) # 0 or 2\n",
    "\n",
    "    res = int(format(state.sampling(shots)[0], \"b\")) # After Z basis measurement, converting its representation from Decimal to Binary\n",
    "    res_len = len(str(res)) # making \"res\" the same length as num_qubits by adding extra 0\n",
    "    if not (res_len == num_qubits):\n",
    "        required_0 = num_qubits - res_len\n",
    "        res = list((\"0\" * required_0 + str(res))[::-1])\n",
    "    else:\n",
    "        res = list((str(res))[::-1])\n",
    "\n",
    "    for j in range(num_qubits):\n",
    "        if res[j] == \"0\":\n",
    "            res[j] = 1\n",
    "        else:\n",
    "            res[j] = -1\n",
    "\n",
    "    return res    \n",
    "\n",
    "# arrays in which to collect data\n",
    "elapsed_times = []\n",
    "shadows = []\n",
    "\n",
    "# collecting shadows and elapsed times\n",
    "for num_snapshots in [10, 100, 1000, 10000]:\n",
    "    start = time.time()\n",
    "    shadow = calculate_classical_shadow(local_qubit_rotation_circuit, num_snapshots, num_qubits)\n",
    "    elapsed_times.append(time.time() - start)\n",
    "    shadows.append(shadow)\n",
    "\n",
    "# printing out the smallest shadow as an example\n",
    "print(shadows[0][0])\n",
    "print(shadows[0][1])"
   ]
  },
  {
   "cell_type": "code",
   "execution_count": 9,
   "metadata": {},
   "outputs": [
    {
     "data": {
      "image/png": "[encoded data removed]",
      "text/plain": [
       "<Figure size 432x288 with 1 Axes>"
      ]
     },
     "metadata": {
      "needs_background": "light"
     },
     "output_type": "display_data"
    }
   ],
   "source": [
    "plt.plot([10, 100, 1000, 10000], elapsed_times)\n",
    "plt.title(\"Time taken to obtain a classical shadow from a two-qubit state\")\n",
    "plt.xlabel(\"Number of Snapshots in Shadow\")\n",
    "plt.ylabel(\"Elapsed Time\")\n",
    "plt.show()"
   ]
  },
  {
   "cell_type": "code",
   "execution_count": 10,
   "metadata": {},
   "outputs": [],
   "source": [
    "def snapshot_state(b_list, obs_list):\n",
    "    \"\"\"\n",
    "    Helper function for `shadow_state_reconstruction` that reconstructs\n",
    "     a state from a single snapshot in a shadow.\n",
    "\n",
    "    Implements Eq. (S44) from https://arxiv.org/pdf/2002.08953.pdf\n",
    "\n",
    "    Args:\n",
    "        b_list (array): The list of classical outcomes for the snapshot.\n",
    "        obs_list (array): Indices for the applied Pauli measurement.\n",
    "\n",
    "    Returns:\n",
    "        Numpy array with the reconstructed snapshot.\n",
    "    \"\"\"\n",
    "    num_qubits = len(b_list)\n",
    "\n",
    "    # computational basis states\n",
    "    zero_state = np.array([[1, 0], [0, 0]])\n",
    "    one_state = np.array([[0, 0], [0, 1]])\n",
    "\n",
    "    # local qubit unitaries\n",
    "    phase_z = Sdag(0).get_matrix()\n",
    "    hadamard = H(0).get_matrix()\n",
    "    identity = Identity(0).get_matrix()\n",
    "\n",
    "    # undo the rotations that were added implicitly to the circuit for the Pauli measurements\n",
    "    unitaries = [hadamard, hadamard @ phase_z, identity]\n",
    "\n",
    "    # reconstructing the snapshot state from local Pauli measurements\n",
    "    rho_snapshot = [1]\n",
    "    for i in range(num_qubits):\n",
    "        state = zero_state if b_list[i] == 1 else one_state\n",
    "        U = unitaries[int(obs_list[i])]\n",
    "\n",
    "        # applying Eq. (S44)\n",
    "        local_rho = 3 * (U.conj().T @ state @ U) - identity\n",
    "        rho_snapshot = np.kron(rho_snapshot, local_rho)\n",
    "\n",
    "    return rho_snapshot\n"
   ]
  },
  {
   "cell_type": "code",
   "execution_count": 11,
   "metadata": {},
   "outputs": [],
   "source": [
    "def shadow_state_reconstruction(shadow):\n",
    "    \"\"\"\n",
    "    Reconstruct a state approximation as an average over all snapshots in the shadow.\n",
    "\n",
    "    Args:\n",
    "        shadow (tuple): A shadow tuple obtained from `calculate_classical_shadow`.\n",
    "\n",
    "    Returns:\n",
    "        Numpy array with the reconstructed quantum state.\n",
    "    \"\"\"\n",
    "    num_snapshots, num_qubits = shadow[0].shape\n",
    "\n",
    "    # classical values\n",
    "    b_lists, obs_lists = shadow\n",
    "\n",
    "    # Averaging over snapshot states.\n",
    "    shadow_rho = np.zeros((2 ** num_qubits, 2 ** num_qubits), dtype=complex)\n",
    "    for i in range(num_snapshots):\n",
    "        shadow_rho += snapshot_state(b_lists[i], obs_lists[i])\n",
    "\n",
    "    return shadow_rho / num_snapshots"
   ]
  },
  {
   "cell_type": "code",
   "execution_count": 12,
   "metadata": {},
   "outputs": [],
   "source": [
    "num_qubits = 2\n",
    "\n",
    "# circuit to create a Bell state and measure it in\n",
    "def bell_state_circuit(ns, num_qubits, unitary_ids, unitary_ensemble):\n",
    "    shots = 1\n",
    "    state = QuantumState(num_qubits)\n",
    "    state.set_zero_state()\n",
    "    H(0).update_quantum_state(state)\n",
    "    CNOT(0, 1).update_quantum_state(state)\n",
    "\n",
    "    for i in range(num_qubits):\n",
    "        if int(unitary_ids[ns, i]) == 1:\n",
    "            Sdag(i).update_quantum_state(state)\n",
    "            H(i).update_quantum_state(state)\n",
    "        else:\n",
    "            unitary_ensemble[int(unitary_ids[ns, i])](i).update_quantum_state(state)\n",
    "        res = int(format(state.sampling(shots)[0], \"b\")) \n",
    "        res_len = len(str(res))\n",
    "        if not (res_len == num_qubits):\n",
    "            required_0 = num_qubits - res_len\n",
    "            res = list((\"0\" * required_0 + str(res))[::-1])\n",
    "        else:\n",
    "            res = list((str(res))[::-1])\n",
    "\n",
    "        for j in range(num_qubits):\n",
    "            if res[j] == \"0\":\n",
    "                res[j] = 1\n",
    "            else:\n",
    "                res[j] = -1\n",
    "\n",
    "    return res"
   ]
  },
  {
   "cell_type": "code",
   "execution_count": 13,
   "metadata": {},
   "outputs": [
    {
     "name": "stdout",
     "output_type": "stream",
     "text": [
      "[[ 1.  1.]\n",
      " [-1.  1.]\n",
      " [-1. -1.]\n",
      " ...\n",
      " [ 1.  1.]\n",
      " [ 1.  1.]\n",
      " [ 1.  1.]]\n",
      "[[0 1]\n",
      " [1 2]\n",
      " [2 2]\n",
      " ...\n",
      " [2 2]\n",
      " [0 2]\n",
      " [1 2]]\n"
     ]
    }
   ],
   "source": [
    "num_snapshots = 1000\n",
    "\n",
    "shadow = calculate_classical_shadow(bell_state_circuit, num_snapshots, num_qubits)\n",
    "print(shadow[0])\n",
    "print(shadow[1])"
   ]
  },
  {
   "cell_type": "code",
   "execution_count": 14,
   "metadata": {},
   "outputs": [
    {
     "name": "stdout",
     "output_type": "stream",
     "text": [
      "[[ 0.514 +0.j     -0.006 -0.003j   0.1005-0.0015j  0.4725+0.063j ]\n",
      " [-0.006 +0.003j  -0.0155+0.j      0.    +0.0315j -0.0435+0.021j ]\n",
      " [ 0.1005+0.0015j  0.    -0.0315j  0.0025+0.j      0.021 +0.0285j]\n",
      " [ 0.4725-0.063j  -0.0435-0.021j   0.021 -0.0285j  0.499 +0.j    ]]\n"
     ]
    }
   ],
   "source": [
    "shadow_state = shadow_state_reconstruction(shadow)\n",
    "print(np.round(shadow_state, decimals=6))"
   ]
  },
  {
   "cell_type": "code",
   "execution_count": 15,
   "metadata": {},
   "outputs": [],
   "source": [
    "bell_state = np.array([[0.5, 0, 0, 0.5], [0, 0, 0, 0], [0, 0, 0, 0], [0.5, 0, 0, 0.5]])"
   ]
  },
  {
   "cell_type": "code",
   "execution_count": 16,
   "metadata": {},
   "outputs": [
    {
     "data": {
      "text/plain": [
       "(0.19835952208048901-2.8749464079733737e-19j)"
      ]
     },
     "execution_count": 16,
     "metadata": {},
     "output_type": "execute_result"
    }
   ],
   "source": [
    "def operator_2_norm(R):\n",
    "    \"\"\"\n",
    "    Calculate the operator 2-norm.\n",
    "\n",
    "    Args:\n",
    "        R (array): The operator whose norm we want to calculate.\n",
    "\n",
    "    Returns:\n",
    "        Scalar corresponding to the norm.\n",
    "    \"\"\"\n",
    "    return np.sqrt(np.trace(R.conjugate().transpose() @ R))\n",
    "\n",
    "\n",
    "# Calculating the distance between ideal and shadow states.\n",
    "operator_2_norm(bell_state - shadow_state)"
   ]
  },
  {
   "cell_type": "code",
   "execution_count": 17,
   "metadata": {},
   "outputs": [
    {
     "data": {
      "image/png": "[encoded data removed]",
      "text/plain": [
       "<Figure size 432x288 with 1 Axes>"
      ]
     },
     "metadata": {
      "needs_background": "light"
     },
     "output_type": "display_data"
    }
   ],
   "source": [
    "number_of_runs = 10\n",
    "snapshots_range = [100, 1000, 6000]\n",
    "distances = np.zeros((number_of_runs, len(snapshots_range)))\n",
    "\n",
    "# run the estimation multiple times so that we can include error bars\n",
    "for i in range(number_of_runs):\n",
    "    for j, num_snapshots in enumerate(snapshots_range):\n",
    "        shadow = calculate_classical_shadow(bell_state_circuit, num_snapshots, num_qubits)\n",
    "        shadow_state = shadow_state_reconstruction(shadow)\n",
    "\n",
    "        distances[i, j] = np.real(operator_2_norm(bell_state - shadow_state))\n",
    "\n",
    "plt.errorbar(\n",
    "    snapshots_range,\n",
    "    np.mean(distances, axis=0),\n",
    "    yerr=np.std(distances, axis=0),\n",
    ")\n",
    "plt.title(\"Distance between Ideal and Shadow Bell States\")\n",
    "plt.xlabel(\"Number of Snapshots\")\n",
    "plt.ylabel(\"Distance\")\n",
    "plt.show()"
   ]
  },
  {
   "cell_type": "code",
   "execution_count": 29,
   "metadata": {},
   "outputs": [],
   "source": [
    "def estimate_shadow_observable(shadow, observable, k=10): # observable = [[0, 0], [0, 1]]\n",
    "    shadow_size, num_qubits = shadow[0].shape\n",
    "    \n",
    "    target_obs = observable[0]\n",
    "    target_locs = observable[1]\n",
    "\n",
    "    b_lists, obs_lists = shadow\n",
    "    # b_lists =\n",
    "    #   [[1, -1, ...],\n",
    "    #    [1, 1,  ...],\n",
    "    #        ：\n",
    "    #    [1, 1,  ...]](results of a measurement)\n",
    "    # obs_lists =\n",
    "    #   [[0, 1, ...],\n",
    "    #    [2, 0, ...],\n",
    "    #        ：\n",
    "    #    [2, 1, ...]](unidary_ind)\n",
    "    means = []\n",
    "\n",
    "    for i in range(0, shadow_size, shadow_size // k):# counting k chunks whose size are [N/k] from i=0 to i=k \n",
    "        b_lists_k, obs_lists_k = (b_lists[i:(i+shadow_size // k)], obs_lists[i:(i+shadow_size // k)])\n",
    "\n",
    "        indices = np.all(obs_lists_k[:, target_locs] == target_obs, axis=1)# this is done by going through each row.(↓→)\n",
    "        # \"obs_lists_k[:, target_locs]\" picks colums which \"target_locs\" indicate with all rows. => chosing qubits that observable(argument) operates from \"obs_lists_k\"\n",
    "        # [True, False, False, ..., True]  (k)\n",
    "        \n",
    "        # catch the edge case where there is no match in the chunk\n",
    "        if sum(indices) > 0:# if there was at least one shadow that had exactly the same indices(measurement) as target_obs has.\n",
    "            # take the product and sum\n",
    "            product = np.prod(b_lists_k[indices][:, target_locs], axis=1)# picking b_list that had exactly the same indices(measurement) in \"obs_lists_k\" as \"target_obs\" has.(↓→) ########\n",
    "            # [1, -1, ...] (number of \"True\" in \"indices\")\n",
    "            means.append(np.sum(product) / sum(indices))# getting average through number of the valid shadow in chunk.\n",
    "        else:# if there are no shadow that had exactly the same indices(measurement) in \"obs_lists_k\" as \"target_obs\" has. \n",
    "            means.append(0)# As soon as something like \"PU†|b><b|U = ZH|b><b|H = 0\"(when observable and measurement don't match) happens, the shadow in the chunk results in 0.\n",
    "\n",
    "    return np.median(means)"
   ]
  },
  {
   "cell_type": "code",
   "execution_count": 30,
   "metadata": {},
   "outputs": [],
   "source": [
    "def prepare_observable(num_qubits):\n",
    "    box = []\n",
    "    for i in range(num_qubits-1):\n",
    "        box.append([[0, i], [0, (i+1)]])\n",
    "        box.append([[1, i], [1, (i+1)]])\n",
    "        box.append([[2, i], [2, (i+1)]])\n",
    "    return box"
   ]
  },
  {
   "cell_type": "code",
   "execution_count": 31,
   "metadata": {},
   "outputs": [],
   "source": [
    "def shadow_bound(error, observables, failure_rate=0.01):\n",
    "    \"\"\"\n",
    "    Calculate the shadow bound for the Pauli measurement scheme.\n",
    "\n",
    "    Implements Eq. (S13) from https://arxiv.org/pdf/2002.08953.pdf\n",
    "\n",
    "    Args:\n",
    "        error (float): The error on the estimator.\n",
    "        observables (list) : List of matrices corresponding to the observables we intend to\n",
    "            measure.\n",
    "        failure_rate (float): Rate of failure for the bound to hold.\n",
    "\n",
    "    Returns:\n",
    "        An integer that gives the number of samples required to satisfy the shadow bound and\n",
    "        the chunk size required attaining the specified failure rate.\n",
    "    \"\"\"\n",
    "    M = len(observables)\n",
    "    K = 2 * np.log(2 * M / failure_rate)\n",
    "    shadow_norm = (\n",
    "        lambda op: np.linalg.norm(\n",
    "            op - np.trace(op) / 2 ** int(np.log2(op.shape[0])), ord=np.inf\n",
    "        )\n",
    "        ** 2\n",
    "    )\n",
    "    N = 34 * max(shadow_norm(o) for o in observables) / error ** 2\n",
    "    return int(np.ceil(N * K)), int(K)"
   ]
  },
  {
   "cell_type": "code",
   "execution_count": 32,
   "metadata": {},
   "outputs": [],
   "source": [
    "num_qubits = 10\n",
    "\n",
    "# the bases specified by the 'observable' keyword argument.\n",
    "def state_circuit(ns, num_qubits, unitary_ids, unitary_ensemble):\n",
    "    shots = 1\n",
    "    seed = 2\n",
    "    state = QuantumState(num_qubits)\n",
    "    state.set_Haar_random_state(seed)\n",
    "    for i in range(num_qubits):\n",
    "        if int(unitary_ids[ns, i]) == 1:\n",
    "            Sdag(i).update_quantum_state(state)\n",
    "            H(i).update_quantum_state(state)\n",
    "        else:\n",
    "            unitary_ensemble[int(unitary_ids[ns, i])](i).update_quantum_state(state)\n",
    "        res = int(format(state.sampling(shots)[0], \"b\")) \n",
    "        res_len = len(str(res))\n",
    "        if not (res_len == num_qubits):\n",
    "            required_0 = num_qubits - res_len\n",
    "            res = list((\"0\" * required_0 + str(res))[::-1])\n",
    "        else:\n",
    "            res = list((str(res))[::-1])\n",
    "\n",
    "        for j in range(num_qubits):\n",
    "            if res[j] == \"0\":\n",
    "                res[j] = 1\n",
    "            else:\n",
    "                res[j] = -1\n",
    "\n",
    "    return res"
   ]
  },
  {
   "cell_type": "code",
   "execution_count": 33,
   "metadata": {},
   "outputs": [],
   "source": [
    "list_of_observables =[merge(X(i), X(i + 1)) for i in range(num_qubits - 1)] + [merge(Y(i), Y(i + 1)) for i in range(num_qubits - 1)] + [merge(Z(i), Z(i + 1)) for i in range(num_qubits - 1)]"
   ]
  },
  {
   "cell_type": "code",
   "execution_count": 34,
   "metadata": {},
   "outputs": [],
   "source": [
    " observables=[o.get_matrix() for o in list_of_observables]"
   ]
  },
  {
   "cell_type": "code",
   "execution_count": 35,
   "metadata": {},
   "outputs": [
    {
     "data": {
      "text/plain": [
       "14611"
      ]
     },
     "execution_count": 35,
     "metadata": {},
     "output_type": "execute_result"
    }
   ],
   "source": [
    "shadow_size_bound, k = shadow_bound(\n",
    "    error=2e-1, observables=observables\n",
    ")\n",
    "shadow_size_bound"
   ]
  },
  {
   "cell_type": "code",
   "execution_count": 36,
   "metadata": {},
   "outputs": [
    {
     "name": "stdout",
     "output_type": "stream",
     "text": [
      "585 samples required \n",
      "722 samples required \n",
      "914 samples required \n",
      "1193 samples required \n",
      "1624 samples required \n",
      "2338 samples required \n",
      "3653 samples required \n",
      "6494 samples required \n",
      "14611 samples required \n"
     ]
    }
   ],
   "source": [
    "# create a grid of errors\n",
    "epsilon_grid = [1 - 0.1 * x for x in range(9)]\n",
    "shadow_sizes = []\n",
    "estimates = []\n",
    "\n",
    "for error in epsilon_grid:\n",
    "    # get the number of samples needed so that the absolute error < epsilon.\n",
    "    shadow_size_bound, k = shadow_bound(\n",
    "        error=error, observables=[o.get_matrix() for o in list_of_observables]\n",
    "    )\n",
    "    shadow_sizes.append(shadow_size_bound)\n",
    "    print(f\"{shadow_size_bound} samples required \")\n",
    "    # calculate a shadow of the appropriate size\n",
    "    shadow = calculate_classical_shadow(state_circuit, shadow_size_bound, num_qubits)\n",
    "\n",
    "    # estimate all the observables in O\n",
    "    estimates.append([estimate_shadow_observable(shadow, o, k=k) for o in prepare_observable(num_qubits)])"
   ]
  },
  {
   "cell_type": "code",
   "execution_count": 41,
   "metadata": {},
   "outputs": [],
   "source": [
    "# change the simulator to be the exact one.\n",
    "seed = 4\n",
    "pauli_dic = {0:\"X\", 1:\"Y\", 2:\"Z\"}\n",
    "expval_exact = []\n",
    "t = prepare_observable(num_qubits)\n",
    "for i in range(len(t)):\n",
    "    state = QuantumState(num_qubits)\n",
    "    state.set_Haar_random_state(seed)\n",
    "    measurement = Observable(num_qubits)\n",
    "    A = str(pauli_dic[t[i][0][0]])\n",
    "    B = str(t[i][0][1])\n",
    "    C = str(pauli_dic[t[i][1][0]])\n",
    "    D = str(t[i][1][1])\n",
    "    op = f'{A} {B} {C} {D}'\n",
    "    measurement.add_operator(1.0,op)\n",
    "    res = measurement.get_expectation_value(state)\n",
    "    expval_exact.append(res)"
   ]
  },
  {
   "cell_type": "code",
   "execution_count": 43,
   "metadata": {},
   "outputs": [
    {
     "data": {
      "image/png": "[encoded data removed]",
      "text/plain": [
       "<Figure size 432x288 with 1 Axes>"
      ]
     },
     "metadata": {
      "needs_background": "light"
     },
     "output_type": "display_data"
    }
   ],
   "source": [
    "for j, error in enumerate(epsilon_grid):\n",
    "    plt.scatter(\n",
    "        [shadow_sizes[j] for _ in estimates[j]],\n",
    "        [np.abs(obs - estimates[j][i]) for i, obs in enumerate(expval_exact)],\n",
    "        marker=\".\",\n",
    "    )\n",
    "plt.plot(\n",
    "    shadow_sizes,\n",
    "    [e for e in epsilon_grid],\n",
    "    linestyle=\"--\",\n",
    "    color=\"gray\",\n",
    "    label=rf\"$\\epsilon$\",\n",
    "    marker=\".\",\n",
    ")\n",
    "plt.xlabel(r\"$N$ (Shadow size) \")\n",
    "plt.ylabel(r\"$|\\langle O_i \\rangle_{exact} - \\langle O_i \\rangle_{shadow}|$\")\n",
    "plt.legend()\n",
    "plt.show()"
   ]
  }
 ],
 "metadata": {
  "kernelspec": {
   "display_name": "Python 3.10.3 64-bit",
   "language": "python",
   "name": "python3"
  },
  "language_info": {
   "codemirror_mode": {
    "name": "ipython",
    "version": 3
   },
   "file_extension": ".py",
   "mimetype": "text/x-python",
   "name": "python",
   "nbconvert_exporter": "python",
   "pygments_lexer": "ipython3",
   "version": "3.10.3"
  },
  "orig_nbformat": 4,
  "vscode": {
   "interpreter": {
    "hash": "9f6ee3bff0e659a38965a4afd9991b9a58055f8665aa3b831aa7dbcf85f2851f"
   }
  }
 },
 "nbformat": 4,
 "nbformat_minor": 2
}
