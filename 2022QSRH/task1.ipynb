{
 "cells": [
  {
   "cell_type": "code",
   "execution_count": 351,
   "metadata": {},
   "outputs": [
    {
     "name": "stdout",
     "output_type": "stream",
     "text": [
      "Requirement already satisfied: qulacs in /opt/conda/lib/python3.7/site-packages (0.3.1)\n",
      "\u001b[33mWARNING: Running pip as the 'root' user can result in broken permissions and conflicting behaviour with the system package manager. It is recommended to use a virtual environment instead: https://pip.pypa.io/warnings/venv\u001b[0m\u001b[33m\n",
      "\u001b[0mRequirement already satisfied: qulacsvis in /opt/conda/lib/python3.7/site-packages (0.2.2)\n",
      "Requirement already satisfied: matplotlib<4.0.0,>=3.4.3 in /opt/conda/lib/python3.7/site-packages (from qulacsvis) (3.5.3)\n",
      "Requirement already satisfied: numpy<2.0.0,>=1.21.2 in /opt/conda/lib/python3.7/site-packages (from qulacsvis) (1.21.6)\n",
      "Requirement already satisfied: temp<2021.0.0,>=2020.7.2 in /opt/conda/lib/python3.7/site-packages (from qulacsvis) (2020.7.2)\n",
      "Requirement already satisfied: Qulacs<0.4.0,>=0.3.0 in /opt/conda/lib/python3.7/site-packages (from qulacsvis) (0.3.1)\n",
      "Requirement already satisfied: Pillow<10.0.0,>=9.1.0 in /opt/conda/lib/python3.7/site-packages (from qulacsvis) (9.2.0)\n",
      "Requirement already satisfied: packaging>=20.0 in /opt/conda/lib/python3.7/site-packages (from matplotlib<4.0.0,>=3.4.3->qulacsvis) (20.1)\n",
      "Requirement already satisfied: fonttools>=4.22.0 in /opt/conda/lib/python3.7/site-packages (from matplotlib<4.0.0,>=3.4.3->qulacsvis) (4.37.4)\n",
      "Requirement already satisfied: cycler>=0.10 in /opt/conda/lib/python3.7/site-packages (from matplotlib<4.0.0,>=3.4.3->qulacsvis) (0.10.0)\n",
      "Requirement already satisfied: pyparsing>=2.2.1 in /opt/conda/lib/python3.7/site-packages (from matplotlib<4.0.0,>=3.4.3->qulacsvis) (2.4.6)\n",
      "Requirement already satisfied: kiwisolver>=1.0.1 in /opt/conda/lib/python3.7/site-packages (from matplotlib<4.0.0,>=3.4.3->qulacsvis) (1.1.0)\n",
      "Requirement already satisfied: python-dateutil>=2.7 in /opt/conda/lib/python3.7/site-packages (from matplotlib<4.0.0,>=3.4.3->qulacsvis) (2.8.1)\n",
      "Requirement already satisfied: six in /opt/conda/lib/python3.7/site-packages (from cycler>=0.10->matplotlib<4.0.0,>=3.4.3->qulacsvis) (1.14.0)\n",
      "Requirement already satisfied: setuptools in /opt/conda/lib/python3.7/site-packages (from kiwisolver>=1.0.1->matplotlib<4.0.0,>=3.4.3->qulacsvis) (59.3.0)\n",
      "\u001b[33mWARNING: Running pip as the 'root' user can result in broken permissions and conflicting behaviour with the system package manager. It is recommended to use a virtual environment instead: https://pip.pypa.io/warnings/venv\u001b[0m\u001b[33m\n",
      "\u001b[0mRequirement already satisfied: matplotlib in /opt/conda/lib/python3.7/site-packages (3.5.3)\n",
      "Requirement already satisfied: kiwisolver>=1.0.1 in /opt/conda/lib/python3.7/site-packages (from matplotlib) (1.1.0)\n",
      "Requirement already satisfied: numpy>=1.17 in /opt/conda/lib/python3.7/site-packages (from matplotlib) (1.21.6)\n",
      "Requirement already satisfied: cycler>=0.10 in /opt/conda/lib/python3.7/site-packages (from matplotlib) (0.10.0)\n",
      "Requirement already satisfied: pyparsing>=2.2.1 in /opt/conda/lib/python3.7/site-packages (from matplotlib) (2.4.6)\n",
      "Requirement already satisfied: fonttools>=4.22.0 in /opt/conda/lib/python3.7/site-packages (from matplotlib) (4.37.4)\n",
      "Requirement already satisfied: python-dateutil>=2.7 in /opt/conda/lib/python3.7/site-packages (from matplotlib) (2.8.1)\n",
      "Requirement already satisfied: packaging>=20.0 in /opt/conda/lib/python3.7/site-packages (from matplotlib) (20.1)\n",
      "Requirement already satisfied: pillow>=6.2.0 in /opt/conda/lib/python3.7/site-packages (from matplotlib) (9.2.0)\n",
      "Requirement already satisfied: six in /opt/conda/lib/python3.7/site-packages (from cycler>=0.10->matplotlib) (1.14.0)\n",
      "Requirement already satisfied: setuptools in /opt/conda/lib/python3.7/site-packages (from kiwisolver>=1.0.1->matplotlib) (59.3.0)\n",
      "\u001b[33mWARNING: Running pip as the 'root' user can result in broken permissions and conflicting behaviour with the system package manager. It is recommended to use a virtual environment instead: https://pip.pypa.io/warnings/venv\u001b[0m\u001b[33m\n",
      "\u001b[0mRequirement already satisfied: numpy in /opt/conda/lib/python3.7/site-packages (1.21.6)\n",
      "\u001b[33mWARNING: Running pip as the 'root' user can result in broken permissions and conflicting behaviour with the system package manager. It is recommended to use a virtual environment instead: https://pip.pypa.io/warnings/venv\u001b[0m\u001b[33m\n",
      "\u001b[0mRequirement already satisfied: scipy in /opt/conda/lib/python3.7/site-packages (1.4.1)\n",
      "Requirement already satisfied: numpy>=1.13.3 in /opt/conda/lib/python3.7/site-packages (from scipy) (1.21.6)\n",
      "\u001b[33mWARNING: Running pip as the 'root' user can result in broken permissions and conflicting behaviour with the system package manager. It is recommended to use a virtual environment instead: https://pip.pypa.io/warnings/venv\u001b[0m\u001b[33m\n",
      "\u001b[0m"
     ]
    }
   ],
   "source": [
    "!pip install qulacs\n",
    "!pip install qulacsvis\n",
    "!pip install matplotlib\n",
    "!pip install numpy\n",
    "!pip install scipy\n",
    "from utility import *"
   ]
  },
  {
   "cell_type": "code",
   "execution_count": 352,
   "metadata": {},
   "outputs": [],
   "source": [
    "import matplotlib.pyplot as plt\n",
    "import numpy as np\n",
    "import time \n",
    "import random\n",
    "from qulacs import Observable, QuantumState, QuantumCircuit\n",
    "from qulacs.gate import DenseMatrix\n",
    "from qulacs.circuit import QuantumCircuitOptimizer\n",
    "from qulacsvis import circuit_drawer\n",
    "from qulacs.gate import RandomUnitary\n",
    "from qulacs.state import inner_product\n",
    "from qulacs.gate import to_matrix_gate\n",
    "import scipy.optimize\n",
    "\n",
    "from qulacs.gate import Identity, X,Y,Z\n",
    "from qulacs.gate import H,S,Sdag, sqrtX,sqrtXdag,sqrtY,sqrtYdag\n",
    "from qulacs.gate import T,Tdag\n",
    "from qulacs.gate import RX,RY,RZ\n",
    "from qulacs.gate import CNOT, CZ, SWAP"
   ]
  },
  {
   "cell_type": "markdown",
   "metadata": {},
   "source": [
    "# 受講証明用課題①"
   ]
  },
  {
   "cell_type": "markdown",
   "metadata": {},
   "source": [
    "$$\n",
    "\\Lambda(U)_{1,2}=|0\\rangle\\langle0|\\otimes I+|1\\rangle\\langle1|\\otimes U = \\left(I\\otimes U\\right)\\left(I\\otimes X^{\\dagger}\\right)CNOT_{1,2}\n",
    "$$\n",
    "より、任意の1qubitユニタリー演算子の分解方法とCNOT演算子の分解方法を組み合わせて制御U演算子を分解していく。"
   ]
  },
  {
   "cell_type": "markdown",
   "metadata": {},
   "source": [
    "演習通りに行えば、パラメータがCNOT演算子の分解に3つと1qubitユニタリー演算子の分解に3つの合計6つで最適化を行う形になるが、より演算精度を高めるために、2qubit回転ゲートを途中に追加して7つのパラメータを最適化していく。"
   ]
  },
  {
   "cell_type": "code",
   "execution_count": 401,
   "metadata": {},
   "outputs": [],
   "source": [
    "\"\"\"\n",
    "    Create maximally entangled state of 2n qubit.\n",
    "\"\"\"\n",
    "def maximally_entangled_state(nqubits):\n",
    "    state = QuantumState(2*nqubits)\n",
    "    for i in range(nqubits):\n",
    "        H(i).update_quantum_state(state)\n",
    "        CNOT(i,i+nqubits).update_quantum_state(state)\n",
    "    return state\n"
   ]
  },
  {
   "cell_type": "code",
   "execution_count": 402,
   "metadata": {},
   "outputs": [],
   "source": [
    "\"\"\"\n",
    "    Caluculate entanglement fidelity.\n",
    "\"\"\"\n",
    "def entanglement_fidelity(ansatz,nqubits):\n",
    "    mes = maximally_entangled_state(int(nqubits/2))\n",
    "    mes_copy = mes.copy()\n",
    "    ansatz.update_quantum_state(mes)\n",
    "\n",
    "    ent_fidelity = abs(inner_product(mes_copy,mes))**2\n",
    "    return ent_fidelity\n"
   ]
  },
  {
   "cell_type": "code",
   "execution_count": 426,
   "metadata": {},
   "outputs": [
    {
     "data": {
      "image/png": "[encoded data removed]",
      "text/plain": [
       "<Figure size 648x367.2 with 1 Axes>"
      ]
     },
     "metadata": {},
     "output_type": "display_data"
    }
   ],
   "source": [
    "\"\"\"\n",
    "    Crate an ansatz.\n",
    "\"\"\"\n",
    "nqubits = 4\n",
    "ansatz = ParametricQuantumCircuit(nqubits)\n",
    "\n",
    "ansatz.add_parametric_RZ_gate(0,0.0)\n",
    "ansatz.add_parametric_multi_Pauli_rotation_gate([0,1],[3,1], 0.0)\n",
    "ansatz.add_parametric_RX_gate(1,0.0)\n",
    "ansatz.add_parametric_RZ_gate(1,0.0)\n",
    "ansatz.add_parametric_multi_Pauli_rotation_gate([0,1],[3,1], 0.0)\n",
    "ansatz.add_parametric_RX_gate(1,0.0)\n",
    "ansatz.add_parametric_RZ_gate(1,0.0)\n",
    "\n",
    "target_list = [1]\n",
    "controlled_unitary = RandomUnitary(target_list)\n",
    "control_index = 0\n",
    "control_with_value = 1\n",
    "controlled_unitary.add_control_qubit(control_index,control_with_value)\n",
    "ansatz.add_gate(controlled_unitary)\n",
    "\n",
    "circuit_drawer(ansatz, \"mpl\")"
   ]
  },
  {
   "cell_type": "code",
   "execution_count": 427,
   "metadata": {},
   "outputs": [],
   "source": [
    "\"\"\"\n",
    "    Make a cost function to minimize.\n",
    "\"\"\"\n",
    "def cost(parameters):\n",
    "    num_paras = ansatz.get_parameter_count()\n",
    "    \n",
    "    for i in range(num_paras):\n",
    "        ansatz.set_parameter(i,parameters[i])\n",
    "    \n",
    "    return 1 - entanglement_fidelity(ansatz,nqubits)"
   ]
  },
  {
   "cell_type": "code",
   "execution_count": 431,
   "metadata": {},
   "outputs": [
    {
     "data": {
      "image/png": "[encoded data removed]",
      "text/plain": [
       "<Figure size 640x480 with 1 Axes>"
      ]
     },
     "metadata": {},
     "output_type": "display_data"
    }
   ],
   "source": [
    "\"\"\"\n",
    "    Excecute minimization.\n",
    "\"\"\"\n",
    "cost_history = []\n",
    "np.random.seed(224)\n",
    "init_theta_list = [random.random() for i in range(ansatz.get_parameter_count())]\n",
    "cost_history.append(cost(init_theta_list))\n",
    "\n",
    "method = \"BFGS\"\n",
    "options = {\"disp\": True, \"maxiter\": 100, \"gtol\": 1e-6}\n",
    "\n",
    "opt = scipy.optimize.minimize(cost, init_theta_list,\n",
    "               method=method,\n",
    "               callback=lambda x: cost_history.append(cost(x)))\n",
    "\n",
    "plt.rcParams[\"font.size\"] = 18\n",
    "plt.plot(cost_history)\n",
    "plt.xlabel(\"Iteration\")\n",
    "plt.ylabel(\"1-(entanglement fidelity)\")\n",
    "plt.show()"
   ]
  },
  {
   "cell_type": "code",
   "execution_count": 432,
   "metadata": {},
   "outputs": [
    {
     "name": "stdout",
     "output_type": "stream",
     "text": [
      "fidelity:  5.734037689109073e-10 \n",
      "parameters:  [ 0.94814349  2.12290056 -2.12274104  2.80635517  0.6640923  -0.66391901\n",
      " -2.80636941]\n"
     ]
    }
   ],
   "source": [
    "print(\"fidelity: \",opt.fun,\"\\nparameters: \",opt.x)"
   ]
  },
  {
   "cell_type": "code",
   "execution_count": 433,
   "metadata": {},
   "outputs": [
    {
     "name": "stdout",
     "output_type": "stream",
     "text": [
      "0.9999999994892665\n"
     ]
    },
    {
     "data": {
      "image/png": "[encoded data removed]",
      "text/plain": [
       "<Figure size 583.2x367.2 with 1 Axes>"
      ]
     },
     "metadata": {},
     "output_type": "display_data"
    }
   ],
   "source": [
    "\"\"\"\n",
    "    Check an accuracy of parameters we caluclated.\n",
    "\"\"\"\n",
    "\n",
    "nqubits = 4\n",
    "state = QuantumState(nqubits)\n",
    "state.set_Haar_random_state()\n",
    "duplicate_of_state = state.copy()\n",
    "\n",
    "controlled_unitary.update_quantum_state(state)\n",
    "\n",
    "circuit = QuantumCircuit(nqubits)\n",
    "circuit.add_RZ_gate(1,-1*opt.x[6])\n",
    "circuit.add_RX_gate(1,-1*opt.x[5])\n",
    "circuit.add_multi_Pauli_rotation_gate([0,1],[3,1],-1*opt.x[4])\n",
    "circuit.add_RZ_gate(1,-1*opt.x[3])\n",
    "circuit.add_RX_gate(1,-1*opt.x[2])\n",
    "circuit.add_multi_Pauli_rotation_gate([0,1],[3,1],-1*opt.x[1])\n",
    "circuit.add_RZ_gate(0,-1*opt.x[0])\n",
    "circuit.update_quantum_state(duplicate_of_state)\n",
    "\n",
    "print(abs(inner_product(state,duplicate_of_state))**2)\n",
    "circuit_drawer(circuit,\"mpl\")"
   ]
  },
  {
   "cell_type": "code",
   "execution_count": null,
   "metadata": {},
   "outputs": [],
   "source": []
  }
 ],
 "metadata": {
  "instance_type": "ml.t3.medium",
  "kernelspec": {
   "display_name": "Python 3 (Data Science)",
   "language": "python",
   "name": "python3__SAGEMAKER_INTERNAL__arn:aws:sagemaker:us-west-2:236514542706:image/datascience-1.0"
  },
  "language_info": {
   "codemirror_mode": {
    "name": "ipython",
    "version": 3
   },
   "file_extension": ".py",
   "mimetype": "text/x-python",
   "name": "python",
   "nbconvert_exporter": "python",
   "pygments_lexer": "ipython3",
   "version": "3.7.10"
  }
 },
 "nbformat": 4,
 "nbformat_minor": 4
}
